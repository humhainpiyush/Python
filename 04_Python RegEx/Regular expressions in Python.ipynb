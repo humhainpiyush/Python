{
 "cells": [
  {
   "cell_type": "markdown",
   "id": "800b78a0-5094-43e3-aab3-5c161699b351",
   "metadata": {},
   "source": [
    "### Regular Expressions:\n",
    "---"
   ]
  },
  {
   "cell_type": "markdown",
   "id": "7ae513b2-9888-406e-a3a9-521f16c66909",
   "metadata": {},
   "source": [
    "In Python, a regular expression (regex) is a sequence of characters that defines a search pattern. It allows you to match, search, and manipulate text based on specific patterns.\n",
    "* Python provides a _re_ module to work with regular expressions.\n",
    "* The _re_ module provides certain functions to work with regular expressions."
   ]
  },
  {
   "cell_type": "markdown",
   "id": "85b7d226-d64a-4e2f-bce5-baad8ab21f82",
   "metadata": {},
   "source": [
    "#### Regex Module/Re Module:"
   ]
  },
  {
   "cell_type": "markdown",
   "id": "3e10296f-eccd-4521-8c69-e9287cfaad09",
   "metadata": {},
   "source": [
    "* Re module is a built-in module in Python.\n",
    "* Therefore, after importing _re_ module we can use regex functions."
   ]
  },
  {
   "cell_type": "markdown",
   "id": "216aa5b4-306c-4f66-9d86-62d8f71a737b",
   "metadata": {},
   "source": [
    "#### Regex Objects:"
   ]
  },
  {
   "cell_type": "markdown",
   "id": "7919d506-fa06-434c-bda1-410e172570cb",
   "metadata": {},
   "source": []
  }
 ],
 "metadata": {
  "kernelspec": {
   "display_name": "Python 3 (ipykernel)",
   "language": "python",
   "name": "python3"
  },
  "language_info": {
   "codemirror_mode": {
    "name": "ipython",
    "version": 3
   },
   "file_extension": ".py",
   "mimetype": "text/x-python",
   "name": "python",
   "nbconvert_exporter": "python",
   "pygments_lexer": "ipython3",
   "version": "3.12.7"
  }
 },
 "nbformat": 4,
 "nbformat_minor": 5
}
