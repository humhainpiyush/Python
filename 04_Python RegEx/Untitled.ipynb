{
 "cells": [
  {
   "cell_type": "markdown",
   "id": "800b78a0-5094-43e3-aab3-5c161699b351",
   "metadata": {},
   "source": [
    "### Regular Expressions:"
   ]
  },
  {
   "cell_type": "code",
   "execution_count": null,
   "id": "d62ba1bb-5970-4969-bd67-c0f06683a415",
   "metadata": {},
   "outputs": [],
   "source": []
  }
 ],
 "metadata": {
  "kernelspec": {
   "display_name": "Python 3 (ipykernel)",
   "language": "python",
   "name": "python3"
  },
  "language_info": {
   "codemirror_mode": {
    "name": "ipython",
    "version": 3
   },
   "file_extension": ".py",
   "mimetype": "text/x-python",
   "name": "python",
   "nbconvert_exporter": "python",
   "pygments_lexer": "ipython3",
   "version": "3.12.7"
  }
 },
 "nbformat": 4,
 "nbformat_minor": 5
}
