{
 "cells": [
  {
   "cell_type": "markdown",
   "id": "0544b091-3ef1-4b00-9034-7ae5656d5856",
   "metadata": {},
   "source": [
    "### File Handling in Python:"
   ]
  },
  {
   "cell_type": "markdown",
   "id": "16483264-157d-40fd-887b-0e8ac5dd09b1",
   "metadata": {},
   "source": [
    "* Dealing with text files is known as File Handling or even called as File I/O functions.\n",
    "* There are different functions involved, which helps to _read_, _write_, _append_, _alter_ and perform many other functions."
   ]
  },
  {
   "cell_type": "code",
   "execution_count": 11,
   "id": "c416a94c-7bf3-4ac4-94ec-ad0a0d378619",
   "metadata": {},
   "outputs": [
    {
     "name": "stdout",
     "output_type": "stream",
     "text": [
      "This is the topic of file handling.\n"
     ]
    }
   ],
   "source": [
    "# Open Mode:\n",
    "\n",
    "f = open(\"text.txt\")\n",
    "content = f.read()\n",
    "print(content)"
   ]
  },
  {
   "cell_type": "code",
   "execution_count": 17,
   "id": "02890c07-6299-456d-973c-05acc77cd5de",
   "metadata": {},
   "outputs": [
    {
     "name": "stdout",
     "output_type": "stream",
     "text": [
      "Hey! what is this going on?\n"
     ]
    }
   ],
   "source": [
    "# After opening only we can go for either 'read' operation or 'write' operation\n",
    "# Read Mode:\n",
    "\n",
    "f = open(\"text.txt\", \"r\")\n",
    "content = f.read()\n",
    "print(content)"
   ]
  },
  {
   "cell_type": "code",
   "execution_count": 44,
   "id": "fb2f6b44-542b-45da-9058-678d1a6cb261",
   "metadata": {},
   "outputs": [],
   "source": [
    "# Write Mode:\n",
    "\n",
    "f = open(\"text.txt\", \"w\")\n",
    "f.write(\"I am learning Python\")\n",
    "f.close()  # always advisable to close the file i/o stream"
   ]
  },
  {
   "cell_type": "markdown",
   "id": "153ec647-4b9a-4203-a33d-c86828e83ef2",
   "metadata": {},
   "source": [
    "~ It is always advisable to close the file i/o stream."
   ]
  },
  {
   "cell_type": "markdown",
   "id": "e7a7cc49-846e-4bcd-9625-027c89ed05f8",
   "metadata": {},
   "source": [
    "#### Adding the text and counting the characters:"
   ]
  },
  {
   "cell_type": "markdown",
   "id": "b25bb681-c707-4f03-85f7-1e7955b1750f",
   "metadata": {},
   "source": [
    "##### Append Function\n",
    "* Append function helps us to add the text in our _.txt_ file.\n",
    "* The mode used is 'a' for appending, means adding or writing some text to the file.\n",
    "* For adding the text into the file in a new line, we must use _\\n_ before the new line/sentence to be added."
   ]
  },
  {
   "cell_type": "code",
   "execution_count": 46,
   "id": "4b0b7ba5-657b-4afb-805a-33260a49389e",
   "metadata": {},
   "outputs": [],
   "source": [
    "# Append mode\n",
    "\n",
    "f = open(\"text.txt\", \"a\") # \"a\" for append mode\n",
    "f.write(\"\\nI am learning File Handling now\")\n",
    "f.close()"
   ]
  },
  {
   "cell_type": "markdown",
   "id": "57a36916-b976-4017-a9da-72affdbf3f40",
   "metadata": {},
   "source": [
    "##### Len Function\n",
    "* To count the characters in a text file _len()_ function is used.\n",
    "* At first, we open the file in read mode.\n",
    "* After reading, _len()_ function is assigned with the variable to find the number of characters in the text file."
   ]
  },
  {
   "cell_type": "code",
   "execution_count": 42,
   "id": "23ee0b1a-eb89-419b-afdb-ed757ce1370d",
   "metadata": {},
   "outputs": [
    {
     "name": "stdout",
     "output_type": "stream",
     "text": [
      "84\n"
     ]
    }
   ],
   "source": [
    "# for counting the no. of characters in the text file, we may open the file in read mode\n",
    "\n",
    "f = open(\"text.txt\", \"r\")\n",
    "data = f.read()\n",
    "total_chars = len(data)\n",
    "print(total_chars)\n",
    "\n",
    "f.close()"
   ]
  },
  {
   "cell_type": "markdown",
   "id": "0d15e1a5-b9e7-4735-bf2e-4d5fd3f13dcd",
   "metadata": {},
   "source": [
    "##### Readline Function\n",
    "* Readline function helps us to read the text line by line.\n",
    "* For using this function, open the text file in any mode, then accordingly use the readline function to read the text file line by line."
   ]
  },
  {
   "cell_type": "code",
   "execution_count": 68,
   "id": "19560442-58ac-460a-a470-efe9ed5e256a",
   "metadata": {},
   "outputs": [
    {
     "name": "stdout",
     "output_type": "stream",
     "text": [
      "I am learning Python\n",
      "\n"
     ]
    }
   ],
   "source": [
    "f = open(\"text.txt\", \"r\")\n",
    "line1 = f.readline()\n",
    "print(line1)"
   ]
  },
  {
   "cell_type": "code",
   "execution_count": 70,
   "id": "2babf841-6fb6-4ed8-8a3b-6a7b5ddaa4bd",
   "metadata": {},
   "outputs": [
    {
     "name": "stdout",
     "output_type": "stream",
     "text": [
      "I am learning File Handling now\n"
     ]
    }
   ],
   "source": [
    "line2 = f.readline()\n",
    "print(line2)\n",
    "f.close()"
   ]
  },
  {
   "cell_type": "markdown",
   "id": "649c2d02-9d01-46aa-9501-300389abad3a",
   "metadata": {},
   "source": [
    "> so this is the way readline function is used to read the contents of the text file line by line"
   ]
  },
  {
   "cell_type": "code",
   "execution_count": null,
   "id": "55dcc1f2-32ef-4ea3-a594-deeee94dbf98",
   "metadata": {},
   "outputs": [],
   "source": []
  }
 ],
 "metadata": {
  "kernelspec": {
   "display_name": "Python 3 (ipykernel)",
   "language": "python",
   "name": "python3"
  },
  "language_info": {
   "codemirror_mode": {
    "name": "ipython",
    "version": 3
   },
   "file_extension": ".py",
   "mimetype": "text/x-python",
   "name": "python",
   "nbconvert_exporter": "python",
   "pygments_lexer": "ipython3",
   "version": "3.12.7"
  }
 },
 "nbformat": 4,
 "nbformat_minor": 5
}
