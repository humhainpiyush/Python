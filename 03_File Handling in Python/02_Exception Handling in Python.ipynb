{
 "cells": [
  {
   "cell_type": "markdown",
   "id": "dd4a60de-9793-4a5d-b368-4e1d545ba193",
   "metadata": {},
   "source": [
    "### Exception Handling in Python"
   ]
  },
  {
   "cell_type": "markdown",
   "id": "2963fe0f-a308-400e-a122-f04f68b9dee8",
   "metadata": {},
   "source": [
    "#### Try and Except statements:"
   ]
  },
  {
   "cell_type": "markdown",
   "id": "bc94b2f3-6d5d-4a67-9557-f4b0a2eafea6",
   "metadata": {},
   "source": [
    "* When we write code, inspite of being written in correct syntax, there are chances which results in exception.\n",
    "* In order to handle it we use _try_ and _except_ in Python.\n",
    "* The code inside the try block gets executed when it is error-free.\n",
    "* If the code contains error/s then _except_ block get executed and also results in an exception."
   ]
  },
  {
   "cell_type": "markdown",
   "id": "abda05b5-a1c3-40f5-867f-48ce71ca71df",
   "metadata": {},
   "source": [
    "<u>**Syntax:**</u><br>\n",
    "&nbsp;&nbsp;&nbsp;&nbsp;try:<br>\n",
    "        &nbsp;&nbsp;&nbsp;&nbsp;&nbsp;&nbsp;&nbsp;&nbsp;_statement_<br>\n",
    "   &nbsp;&nbsp;&nbsp;&nbsp;except:<br>\n",
    "       &nbsp;&nbsp;&nbsp;&nbsp;&nbsp;&nbsp;&nbsp;&nbsp;_Exception_"
   ]
  },
  {
   "cell_type": "markdown",
   "id": "0dea856c-767a-49a7-a9c6-3667ea3fce62",
   "metadata": {},
   "source": [
    "> A _try_ statement can be executed with multiple _except_ statements."
   ]
  },
  {
   "cell_type": "code",
   "execution_count": 14,
   "id": "a7cb5f64-bc70-4c4c-b26d-e92576e434f1",
   "metadata": {},
   "outputs": [
    {
     "name": "stdin",
     "output_type": "stream",
     "text": [
      "Enter first no.:  2\n",
      "Enter second no.:  3\n"
     ]
    },
    {
     "name": "stdout",
     "output_type": "stream",
     "text": [
      "unsupported operand type(s) for +: 'int' and 'str'\n"
     ]
    }
   ],
   "source": [
    "a = input(\"Enter first no.: \")\n",
    "b = input(\"Enter second no.: \")\n",
    "\n",
    "try:\n",
    "    c = int(a) + b          # We've done type casting here\n",
    "    print(c)\n",
    "except Exception as e:\n",
    "    print(e)"
   ]
  },
  {
   "cell_type": "code",
   "execution_count": 16,
   "id": "eec939ea-1f47-452a-885e-d6bfc6a29fe0",
   "metadata": {},
   "outputs": [
    {
     "name": "stdin",
     "output_type": "stream",
     "text": [
      "Enter first no.:  2\n",
      "Enter second no.:  3\n"
     ]
    },
    {
     "name": "stdout",
     "output_type": "stream",
     "text": [
      "Check your code in try block\n"
     ]
    }
   ],
   "source": [
    "a = input(\"Enter first no.: \")\n",
    "b = input(\"Enter second no.: \")\n",
    "\n",
    "try:\n",
    "    c = int(a) + b          # We've done type casting here\n",
    "    print(c)\n",
    "except:\n",
    "    print(\"Check your code in try block\")"
   ]
  },
  {
   "cell_type": "markdown",
   "id": "b6ff150a-0ea8-4f8f-a4c4-4c9bfab00e5d",
   "metadata": {},
   "source": [
    "> But this is not that specific as the previous one.<br>\n",
    "Therefore it is recommended to handle the exception into a variable."
   ]
  },
  {
   "cell_type": "markdown",
   "id": "a377d287-ee1a-4c44-86a4-4d82d3b454c8",
   "metadata": {},
   "source": [
    "#### Try with else clause:"
   ]
  },
  {
   "cell_type": "markdown",
   "id": "e626005f-606a-492c-852a-735ea4c1cada",
   "metadata": {},
   "source": [
    "* _else_ clause is used with _try_ and _except_ statements only when there is no exception in the _try_ block."
   ]
  },
  {
   "cell_type": "markdown",
   "id": "fee3d2bb-3950-4d89-9745-56bec4e2537c",
   "metadata": {},
   "source": [
    "**<u>Syntax:</u>**"
   ]
  },
  {
   "cell_type": "markdown",
   "id": "535cafc4-9b1c-4093-ade8-3ff1894fe2a9",
   "metadata": {},
   "source": [
    "&nbsp;&nbsp;&nbsp;&nbsp;try:<br>\n",
    "        &nbsp;&nbsp;&nbsp;&nbsp;&nbsp;&nbsp;&nbsp;&nbsp;_statement_<br>\n",
    "&nbsp;&nbsp;&nbsp;&nbsp;except:<br>\n",
    "        &nbsp;&nbsp;&nbsp;&nbsp;&nbsp;&nbsp;&nbsp;&nbsp;_Exception_<br>\n",
    "&nbsp;&nbsp;&nbsp;&nbsp;else:<br>\n",
    "        &nbsp;&nbsp;&nbsp;&nbsp;&nbsp;&nbsp;&nbsp;&nbsp;_statements that will only run when there are no exceptions in try block_"
   ]
  },
  {
   "cell_type": "code",
   "execution_count": 25,
   "id": "65a075a6-3dd4-4408-907b-500958be770b",
   "metadata": {},
   "outputs": [
    {
     "name": "stdin",
     "output_type": "stream",
     "text": [
      "Enter a number:  7\n"
     ]
    },
    {
     "name": "stdout",
     "output_type": "stream",
     "text": [
      "7 is an odd number\n",
      "See on no exception; else block is getting executed!!\n"
     ]
    }
   ],
   "source": [
    "# Program to check whether a number is even or not:\n",
    "\n",
    "a = int(input(\"Enter a number: \"))\n",
    "\n",
    "try:\n",
    "    if a % 2 == 0:\n",
    "        print(f\"{a} is an even number\")\n",
    "    else:\n",
    "        print(f\"{a} is an odd number\")\n",
    "except Exception as e:\n",
    "    print(e)\n",
    "else:\n",
    "    print(\"See on no exception; else block is getting executed!!\")"
   ]
  },
  {
   "cell_type": "code",
   "execution_count": 33,
   "id": "4d286b09-22bf-4677-aa95-9e582dc48c36",
   "metadata": {},
   "outputs": [
    {
     "name": "stdin",
     "output_type": "stream",
     "text": [
      "Enter a number:  5\n"
     ]
    },
    {
     "name": "stdout",
     "output_type": "stream",
     "text": [
      "name 's' is not defined\n"
     ]
    }
   ],
   "source": [
    "# same program but with exception:\n",
    "\n",
    "a = int(input(\"Enter a number: \"))\n",
    "\n",
    "try:\n",
    "    if a % 2 == 0:\n",
    "        print(f\"{s} is an even number\")  # 's' variable is not defined previously\n",
    "    else:\n",
    "        print(f\"{s} is an odd number\")\n",
    "except Exception as e:\n",
    "    print(e)\n",
    "else:\n",
    "    print(\"See on no exception; else block is getting executed!!\")"
   ]
  },
  {
   "cell_type": "markdown",
   "id": "0be6c251-5525-4904-9f50-70adafcd9acb",
   "metadata": {},
   "source": [
    "#### Finally Keyword"
   ]
  },
  {
   "cell_type": "markdown",
   "id": "e6eb9d59-1356-4c77-9cdc-fc83716ed54f",
   "metadata": {},
   "source": [
    "* _finally_ keyword is used for the healthy execution of our code, which means even upon exception occurring the code written inside the finally block gets executed.\n",
    "* Whether the _try_ block get executed or _except_ block, no matter, the _finally_ block will surely get executed."
   ]
  },
  {
   "cell_type": "markdown",
   "id": "1f96f147-a0ab-48a1-b6ac-01098ced829e",
   "metadata": {},
   "source": [
    "<u> **Syntax:** </u><br>\n",
    "&nbsp;&nbsp;&nbsp;&nbsp;try:<br>\n",
    "        &nbsp;&nbsp;&nbsp;&nbsp;&nbsp;&nbsp;&nbsp;&nbsp;_statement_<br>\n",
    "&nbsp;&nbsp;&nbsp;&nbsp;except:<br>\n",
    "        &nbsp;&nbsp;&nbsp;&nbsp;&nbsp;&nbsp;&nbsp;&nbsp;_Exception_<br>\n",
    "&nbsp;&nbsp;&nbsp;&nbsp;else:&nbsp;&nbsp;&nbsp;&nbsp;----> (not mandatory; depends on purpose)<br>\n",
    "        &nbsp;&nbsp;&nbsp;&nbsp;&nbsp;&nbsp;&nbsp;&nbsp;_statements that will only run when there are no exceptions in try block_ <br>\n",
    "&nbsp;&nbsp;&nbsp;&nbsp;finally:<br>\n",
    "        &nbsp;&nbsp;&nbsp;&nbsp;&nbsp;&nbsp;&nbsp;&nbsp;_exception/s or not but will surely run_"
   ]
  },
  {
   "cell_type": "code",
   "execution_count": 45,
   "id": "08fe36dd-6d91-499b-b8c5-2db67cb53991",
   "metadata": {},
   "outputs": [
    {
     "name": "stdin",
     "output_type": "stream",
     "text": [
      "Enter num1:  1\n",
      "Enter num2:  2\n"
     ]
    },
    {
     "name": "stdout",
     "output_type": "stream",
     "text": [
      "2 is greater than 1\n",
      "Good Bye!!\n"
     ]
    }
   ],
   "source": [
    "a = int(input(\"Enter num1: \"))\n",
    "b = int(input(\"Enter num2: \"))\n",
    "\n",
    "try:\n",
    "    if a > b:\n",
    "        print(f\"{a} is greater than {b}\")\n",
    "    else:\n",
    "        print(f\"{b} is greater than {a}\")\n",
    "except Exception as e:\n",
    "    print(e)\n",
    "finally:\n",
    "    print(\"Good Bye!!\")"
   ]
  },
  {
   "cell_type": "code",
   "execution_count": 47,
   "id": "30ba9373-ddc0-4b07-b8a2-4204cdc3beee",
   "metadata": {},
   "outputs": [
    {
     "name": "stdin",
     "output_type": "stream",
     "text": [
      "Enter num1:  3\n",
      "Enter num2:  4\n"
     ]
    },
    {
     "name": "stdout",
     "output_type": "stream",
     "text": [
      "name 'c' is not defined\n",
      "Good Bye!!\n"
     ]
    }
   ],
   "source": [
    "a = int(input(\"Enter num1: \"))\n",
    "b = int(input(\"Enter num2: \"))\n",
    "\n",
    "try:\n",
    "    if c > b: # Here we have used a variable which is not defined earlier or assigned a value\n",
    "        print(f\"{a} is greater than {b}\")\n",
    "    else:\n",
    "        print(f\"{b} is greater than {a}\")\n",
    "except Exception as e:\n",
    "    print(e)\n",
    "finally:\n",
    "    print(\"Good Bye!!\")"
   ]
  },
  {
   "cell_type": "code",
   "execution_count": 51,
   "id": "f7ee0584-e7ca-4975-93ff-43bf9b92730d",
   "metadata": {},
   "outputs": [
    {
     "name": "stdin",
     "output_type": "stream",
     "text": [
      "Enter num1:  45\n",
      "Enter num2:  54\n"
     ]
    },
    {
     "name": "stdout",
     "output_type": "stream",
     "text": [
      "54 is greater than 45\n",
      "Just checking whether else block is working or not\n",
      "Good Bye!!\n"
     ]
    }
   ],
   "source": [
    "a = int(input(\"Enter num1: \"))\n",
    "b = int(input(\"Enter num2: \"))\n",
    "\n",
    "try:\n",
    "    if a > b: # Here we have used a variable which is not defined earlier or assigned a value\n",
    "        print(f\"{a} is greater than {b}\")\n",
    "    else:\n",
    "        print(f\"{b} is greater than {a}\")\n",
    "except Exception as e:\n",
    "    print(e)\n",
    "else:\n",
    "    print(\"Just checking whether else block is working or not\")\n",
    "finally:\n",
    "    print(\"Good Bye!!\")"
   ]
  },
  {
   "cell_type": "code",
   "execution_count": null,
   "id": "9224ce1f-6754-4d2f-af7c-9d300073fbd2",
   "metadata": {},
   "outputs": [],
   "source": []
  }
 ],
 "metadata": {
  "kernelspec": {
   "display_name": "Python 3 (ipykernel)",
   "language": "python",
   "name": "python3"
  },
  "language_info": {
   "codemirror_mode": {
    "name": "ipython",
    "version": 3
   },
   "file_extension": ".py",
   "mimetype": "text/x-python",
   "name": "python",
   "nbconvert_exporter": "python",
   "pygments_lexer": "ipython3",
   "version": "3.12.7"
  }
 },
 "nbformat": 4,
 "nbformat_minor": 5
}
