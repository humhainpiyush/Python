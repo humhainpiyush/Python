{
 "cells": [
  {
   "cell_type": "markdown",
   "id": "a65c0a11-decf-40c5-8cb2-7ee7e36bac86",
   "metadata": {},
   "source": [
    "# Basic Problems in Python:"
   ]
  },
  {
   "cell_type": "markdown",
   "id": "8277a741-357a-4f35-9756-1eb1220a770b",
   "metadata": {},
   "source": [
    "1. Check for even or odd"
   ]
  },
  {
   "cell_type": "code",
   "execution_count": 7,
   "id": "825c1dad-1881-4f6c-af44-1fc5991a067a",
   "metadata": {},
   "outputs": [
    {
     "name": "stdin",
     "output_type": "stream",
     "text": [
      "Enter a number:  9\n"
     ]
    },
    {
     "name": "stdout",
     "output_type": "stream",
     "text": [
      "Odd Number\n"
     ]
    }
   ],
   "source": [
    "num = int(input(\"Enter a number: \"))\n",
    "if num%2==0:\n",
    "    print(\"Even Number\")\n",
    "else:\n",
    "    print(\"Odd Number\")"
   ]
  },
  {
   "cell_type": "markdown",
   "id": "febf957d-c8bf-4abb-bfab-71ee4a823f14",
   "metadata": {},
   "source": [
    "2. Check for the given number is positive, negative or zero"
   ]
  },
  {
   "cell_type": "code",
   "execution_count": 18,
   "id": "da1332a5-f33b-497e-92a1-5ec2d9a7d3a8",
   "metadata": {},
   "outputs": [
    {
     "name": "stdin",
     "output_type": "stream",
     "text": [
      "Enter a number:  -0.67\n"
     ]
    },
    {
     "name": "stdout",
     "output_type": "stream",
     "text": [
      "Negative number\n"
     ]
    }
   ],
   "source": [
    "num = float(input(\"Enter a number: \"))\n",
    "if num > 0:\n",
    "    print(\"Positive number\")\n",
    "elif num < 0:\n",
    "    print(\"Negative number\")\n",
    "else:\n",
    "    print(\"Zero\")"
   ]
  },
  {
   "cell_type": "markdown",
   "id": "21531f4c-d301-4465-ad06-2b5e15eb0e3d",
   "metadata": {},
   "source": [
    "3. Factorial of a number"
   ]
  },
  {
   "cell_type": "code",
   "execution_count": 29,
   "id": "27cca05f-c429-499f-9b4f-1ff2eca73db4",
   "metadata": {},
   "outputs": [
    {
     "name": "stdin",
     "output_type": "stream",
     "text": [
      "Enter a number:  0\n"
     ]
    },
    {
     "name": "stdout",
     "output_type": "stream",
     "text": [
      "1\n"
     ]
    }
   ],
   "source": [
    "factorial = 1\n",
    "\n",
    "number = int(input(\"Enter a number: \"))\n",
    "#check if number is positive negative or zero\n",
    "if number < 0:\n",
    "    print(\"Factorial for negative number does not exists\")\n",
    "elif number == 0:\n",
    "    print(factorial)\n",
    "else:\n",
    "    for i in range(1, number + 1):\n",
    "        factorial = factorial * i\n",
    "    print(\"Factorial of\", number, \" is \", factorial)"
   ]
  },
  {
   "cell_type": "markdown",
   "id": "a895f01d-9346-4fc0-9331-ca129650e349",
   "metadata": {},
   "source": [
    "4. Reversing a number"
   ]
  },
  {
   "cell_type": "code",
   "execution_count": 42,
   "id": "a0b3e81c-d968-481d-8783-50f8de640b92",
   "metadata": {},
   "outputs": [
    {
     "name": "stdin",
     "output_type": "stream",
     "text": [
      "Enter a number:  -123\n"
     ]
    },
    {
     "name": "stdout",
     "output_type": "stream",
     "text": [
      "321\n"
     ]
    }
   ],
   "source": [
    "number = int(input(\"Enter a number: \"))\n",
    "#check if negative. if negative make it positive\n",
    "if number < 0:\n",
    "    number = number * -1\n",
    "reversed_number = 0\n",
    "while(number > 0):\n",
    "    last_digit = number % 10\n",
    "    reversed_number = reversed_number * 10 + last_digit\n",
    "    number = number // 10\n",
    "print(reversed_number)"
   ]
  },
  {
   "cell_type": "markdown",
   "id": "dd381477-7d46-48bd-bce6-bb52bcbd60a3",
   "metadata": {},
   "source": [
    "5. Check if the number is palindrome or not"
   ]
  },
  {
   "cell_type": "code",
   "execution_count": 53,
   "id": "175e5292-6eb3-4e5a-988a-0faf76313a8f",
   "metadata": {},
   "outputs": [
    {
     "name": "stdin",
     "output_type": "stream",
     "text": [
      "Enter a number:  23\n"
     ]
    },
    {
     "name": "stdout",
     "output_type": "stream",
     "text": [
      "The number is not a palindrome\n"
     ]
    }
   ],
   "source": [
    "number1 = int(input(\"Enter a number: \"))\n",
    "number2 = number1\n",
    "#check if negative. if negative make it positive\n",
    "if number1 < 0:\n",
    "    number1 = number1 * -1\n",
    "reversed_number = 0\n",
    "while(number1 > 0):\n",
    "    last_digit = number1 % 10\n",
    "    reversed_number = reversed_number * 10 + last_digit\n",
    "    number1 = number1 // 10\n",
    "if reversed_number == number2:\n",
    "    print(\"The number is a palindrome\")\n",
    "else:\n",
    "    print(\"The number is not a palindrome\")"
   ]
  },
  {
   "cell_type": "markdown",
   "id": "2bbbe4fa-b614-4b5f-86fe-2e4d8c7e70c7",
   "metadata": {},
   "source": [
    "6. Fibonacci Series (0,1,1,2,3,5,8,13,21...)"
   ]
  },
  {
   "cell_type": "code",
   "execution_count": 58,
   "id": "03652b8c-2ce2-46f2-9f7a-1c20012b0aa0",
   "metadata": {},
   "outputs": [
    {
     "name": "stdin",
     "output_type": "stream",
     "text": [
      "Enter a number:  8\n"
     ]
    },
    {
     "name": "stdout",
     "output_type": "stream",
     "text": [
      "13\n"
     ]
    }
   ],
   "source": [
    "number = int(input(\"Enter a number: \"))\n",
    "a = 0\n",
    "b = 1\n",
    "if number < 0:\n",
    "    print(\"Incorrect number\")\n",
    "elif number == 0:\n",
    "    print(a)\n",
    "elif number == 1:\n",
    "    print(a)\n",
    "else:\n",
    "    for i in range(2, number):\n",
    "        c = a + b\n",
    "        a = b\n",
    "        b = c\n",
    "    print(b)"
   ]
  },
  {
   "cell_type": "code",
   "execution_count": null,
   "id": "bc1274ec-9392-42e5-a04e-410161352b8f",
   "metadata": {},
   "outputs": [],
   "source": []
  }
 ],
 "metadata": {
  "kernelspec": {
   "display_name": "Python 3 (ipykernel)",
   "language": "python",
   "name": "python3"
  },
  "language_info": {
   "codemirror_mode": {
    "name": "ipython",
    "version": 3
   },
   "file_extension": ".py",
   "mimetype": "text/x-python",
   "name": "python",
   "nbconvert_exporter": "python",
   "pygments_lexer": "ipython3",
   "version": "3.12.7"
  }
 },
 "nbformat": 4,
 "nbformat_minor": 5
}
