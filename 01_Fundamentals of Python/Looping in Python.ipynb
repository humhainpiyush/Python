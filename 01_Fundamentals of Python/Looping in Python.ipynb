{
 "cells": [
  {
   "cell_type": "markdown",
   "id": "20e004a4-b08a-4d04-bc7c-1cc3a97d4b99",
   "metadata": {},
   "source": [
    "## Looping in Python"
   ]
  },
  {
   "cell_type": "markdown",
   "id": "7e6a393d-8bb4-41c4-a9c7-e14eed1a9c12",
   "metadata": {},
   "source": [
    "* Looping statements are used to repeat a task multiple times at once.\n",
    "* There are two types of loop in python.\n",
    "    1. _while_ loop\n",
    "    2. _for_ loop"
   ]
  },
  {
   "cell_type": "markdown",
   "id": "6c81f46d-4356-4378-a08d-5442c88646f9",
   "metadata": {},
   "source": [
    "### While Loop"
   ]
  },
  {
   "cell_type": "code",
   "execution_count": 4,
   "id": "77b53787-5931-4928-bde0-0c6dbb3a884f",
   "metadata": {},
   "outputs": [],
   "source": [
    "i = 1"
   ]
  },
  {
   "cell_type": "code",
   "execution_count": 6,
   "id": "db95fdbf-cc4b-4034-9363-d70086b33d6a",
   "metadata": {},
   "outputs": [
    {
     "name": "stdout",
     "output_type": "stream",
     "text": [
      "1\n",
      "2\n",
      "3\n",
      "4\n",
      "5\n",
      "6\n",
      "7\n",
      "8\n",
      "9\n",
      "10\n"
     ]
    }
   ],
   "source": [
    "while i <= 10:\n",
    "    print(i)\n",
    "    i = i+1"
   ]
  },
  {
   "cell_type": "code",
   "execution_count": 12,
   "id": "b1327661-003f-4d97-b71d-dd26d8b87dad",
   "metadata": {},
   "outputs": [
    {
     "name": "stdin",
     "output_type": "stream",
     "text": [
      "Enter any number:  8\n"
     ]
    },
    {
     "name": "stdout",
     "output_type": "stream",
     "text": [
      "8  X  1  =  8\n",
      "8  X  2  =  16\n",
      "8  X  3  =  24\n",
      "8  X  4  =  32\n",
      "8  X  5  =  40\n",
      "8  X  6  =  48\n",
      "8  X  7  =  56\n",
      "8  X  8  =  64\n",
      "8  X  9  =  72\n",
      "8  X  10  =  80\n"
     ]
    }
   ],
   "source": [
    "# to print tables of any number\n",
    "i = 1\n",
    "n = int(input(\"Enter any number: \"))\n",
    "while i <= 10:\n",
    "    print(n, \" X \", i, \" = \", n*i)\n",
    "    i += 1"
   ]
  },
  {
   "cell_type": "code",
   "execution_count": 14,
   "id": "6fa10590-b6de-4f87-b4ff-5af78050dba9",
   "metadata": {},
   "outputs": [],
   "source": [
    "list1 = [1,2,3,4,5]"
   ]
  },
  {
   "cell_type": "code",
   "execution_count": 16,
   "id": "8fe6387e-5cf6-41cc-9da7-403363bb90fe",
   "metadata": {},
   "outputs": [],
   "source": [
    "i = 0\n",
    "while i < len(list1):\n",
    "    list1[i] = list1[i] + 100\n",
    "    i = i + 1"
   ]
  },
  {
   "cell_type": "code",
   "execution_count": 18,
   "id": "749bac32-c826-4bce-923f-75523bfe88d7",
   "metadata": {},
   "outputs": [
    {
     "data": {
      "text/plain": [
       "[101, 102, 103, 104, 105]"
      ]
     },
     "execution_count": 18,
     "metadata": {},
     "output_type": "execute_result"
    }
   ],
   "source": [
    "list1"
   ]
  },
  {
   "cell_type": "markdown",
   "id": "03401cf8-0124-452d-9d24-0cc00f894da7",
   "metadata": {},
   "source": [
    "### For loop"
   ]
  },
  {
   "cell_type": "markdown",
   "id": "de181d73-6261-4c03-8d18-a3e449e156a8",
   "metadata": {},
   "source": [
    "for loop is used to iterate over a sequence (tuple, set, dictionary, list...)"
   ]
  },
  {
   "cell_type": "code",
   "execution_count": 22,
   "id": "f267d5ec-16db-401c-9623-0828c5aee91a",
   "metadata": {},
   "outputs": [],
   "source": [
    "list2 = [\"apple\", \"banana\", \"guava\"]"
   ]
  },
  {
   "cell_type": "code",
   "execution_count": 24,
   "id": "02bb7a02-4052-491e-ac92-104435213a26",
   "metadata": {},
   "outputs": [
    {
     "name": "stdout",
     "output_type": "stream",
     "text": [
      "apple\n",
      "banana\n",
      "guava\n"
     ]
    }
   ],
   "source": [
    "for i in list2:\n",
    "    print(i)"
   ]
  },
  {
   "cell_type": "code",
   "execution_count": 26,
   "id": "1d069486-902e-4fe7-bd4d-26f6058f2cc2",
   "metadata": {},
   "outputs": [],
   "source": [
    "list3 = [\"orange\", \"blue\", \"green\"]"
   ]
  },
  {
   "cell_type": "code",
   "execution_count": 28,
   "id": "2c6d4527-c8ad-47d3-b7ad-2849a2bc839e",
   "metadata": {},
   "outputs": [
    {
     "name": "stdout",
     "output_type": "stream",
     "text": [
      "orange apple\n",
      "orange banana\n",
      "orange guava\n",
      "blue apple\n",
      "blue banana\n",
      "blue guava\n",
      "green apple\n",
      "green banana\n",
      "green guava\n"
     ]
    }
   ],
   "source": [
    "for i in list3:\n",
    "    for j in list2:\n",
    "        print(i,j)"
   ]
  },
  {
   "cell_type": "code",
   "execution_count": null,
   "id": "56ca0730-af89-4925-8bde-6cfc9692021c",
   "metadata": {},
   "outputs": [],
   "source": []
  }
 ],
 "metadata": {
  "kernelspec": {
   "display_name": "Python 3 (ipykernel)",
   "language": "python",
   "name": "python3"
  },
  "language_info": {
   "codemirror_mode": {
    "name": "ipython",
    "version": 3
   },
   "file_extension": ".py",
   "mimetype": "text/x-python",
   "name": "python",
   "nbconvert_exporter": "python",
   "pygments_lexer": "ipython3",
   "version": "3.12.7"
  }
 },
 "nbformat": 4,
 "nbformat_minor": 5
}
