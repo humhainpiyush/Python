{
 "cells": [
  {
   "cell_type": "code",
   "execution_count": 1,
   "id": "98157673-6af3-4c85-bf0f-ddf34b8316bc",
   "metadata": {},
   "outputs": [],
   "source": [
    "## Tuples in Python"
   ]
  },
  {
   "cell_type": "code",
   "execution_count": 11,
   "id": "5b99c5dd-3ed0-49ef-826e-375141d397ec",
   "metadata": {},
   "outputs": [],
   "source": [
    "t1 = (1, True, 'a', 2, False, 'b')"
   ]
  },
  {
   "cell_type": "code",
   "execution_count": 5,
   "id": "da0dbf64-e78e-45bf-9e19-3ab07480a621",
   "metadata": {},
   "outputs": [
    {
     "data": {
      "text/plain": [
       "(1, True, 'a', 2, False, 'b')"
      ]
     },
     "execution_count": 5,
     "metadata": {},
     "output_type": "execute_result"
    }
   ],
   "source": [
    "t1"
   ]
  },
  {
   "cell_type": "code",
   "execution_count": 7,
   "id": "c3b991d5-4c5c-4b7c-af10-54630713b75e",
   "metadata": {},
   "outputs": [
    {
     "data": {
      "text/plain": [
       "tuple"
      ]
     },
     "execution_count": 7,
     "metadata": {},
     "output_type": "execute_result"
    }
   ],
   "source": [
    "type(t1)"
   ]
  },
  {
   "cell_type": "code",
   "execution_count": 9,
   "id": "8767a15c-ba01-450e-9606-4dc9a426bba9",
   "metadata": {},
   "outputs": [
    {
     "data": {
      "text/plain": [
       "True"
      ]
     },
     "execution_count": 9,
     "metadata": {},
     "output_type": "execute_result"
    }
   ],
   "source": [
    "t1[1]"
   ]
  },
  {
   "cell_type": "code",
   "execution_count": 13,
   "id": "d47e86c2-9013-4da5-a598-62dc35f556fc",
   "metadata": {},
   "outputs": [
    {
     "data": {
      "text/plain": [
       "1"
      ]
     },
     "execution_count": 13,
     "metadata": {},
     "output_type": "execute_result"
    }
   ],
   "source": [
    "t1[0]"
   ]
  },
  {
   "cell_type": "code",
   "execution_count": 15,
   "id": "81eb8bf6-68dc-47f9-a291-da1b3bce12a7",
   "metadata": {},
   "outputs": [
    {
     "data": {
      "text/plain": [
       "'b'"
      ]
     },
     "execution_count": 15,
     "metadata": {},
     "output_type": "execute_result"
    }
   ],
   "source": [
    "t1[-1]"
   ]
  },
  {
   "cell_type": "code",
   "execution_count": 19,
   "id": "05a14118-c463-4f3f-b538-3de987961d0f",
   "metadata": {},
   "outputs": [
    {
     "data": {
      "text/plain": [
       "(True, 'a', 2)"
      ]
     },
     "execution_count": 19,
     "metadata": {},
     "output_type": "execute_result"
    }
   ],
   "source": [
    "t1[1:4]"
   ]
  },
  {
   "cell_type": "code",
   "execution_count": 25,
   "id": "d705b240-4c15-42fb-a2c6-4a0e50eb9ce0",
   "metadata": {},
   "outputs": [
    {
     "ename": "TypeError",
     "evalue": "'tuple' object does not support item assignment",
     "output_type": "error",
     "traceback": [
      "\u001b[1;31m---------------------------------------------------------------------------\u001b[0m",
      "\u001b[1;31mTypeError\u001b[0m                                 Traceback (most recent call last)",
      "Cell \u001b[1;32mIn[25], line 1\u001b[0m\n\u001b[1;32m----> 1\u001b[0m t1[\u001b[38;5;241m6\u001b[39m] \u001b[38;5;241m=\u001b[39m \u001b[38;5;124m\"\u001b[39m\u001b[38;5;124mhello\u001b[39m\u001b[38;5;124m\"\u001b[39m\n",
      "\u001b[1;31mTypeError\u001b[0m: 'tuple' object does not support item assignment"
     ]
    }
   ],
   "source": [
    "t1[2] = \"hello\"  # 'tuples' does not support and value being assigned to them after being assigned once"
   ]
  },
  {
   "cell_type": "code",
   "execution_count": 29,
   "id": "4882dea6-f1f1-427c-a6b3-9cc30450fe4e",
   "metadata": {},
   "outputs": [
    {
     "ename": "TypeError",
     "evalue": "'tuple' object does not support item assignment",
     "output_type": "error",
     "traceback": [
      "\u001b[1;31m---------------------------------------------------------------------------\u001b[0m",
      "\u001b[1;31mTypeError\u001b[0m                                 Traceback (most recent call last)",
      "Cell \u001b[1;32mIn[29], line 1\u001b[0m\n\u001b[1;32m----> 1\u001b[0m t1[\u001b[38;5;241m6\u001b[39m] \u001b[38;5;241m=\u001b[39m \u001b[38;5;124m\"\u001b[39m\u001b[38;5;124mSuperman\u001b[39m\u001b[38;5;124m\"\u001b[39m\n",
      "\u001b[1;31mTypeError\u001b[0m: 'tuple' object does not support item assignment"
     ]
    }
   ],
   "source": [
    "t1[6] = \"Superman\" # neither the value can be replaced or appended at the last. This means tuples are *immutable*"
   ]
  },
  {
   "cell_type": "code",
   "execution_count": 31,
   "id": "735ebda0-0cf8-4872-a509-63590081e4de",
   "metadata": {},
   "outputs": [
    {
     "ename": "AttributeError",
     "evalue": "'tuple' object has no attribute 'len'",
     "output_type": "error",
     "traceback": [
      "\u001b[1;31m---------------------------------------------------------------------------\u001b[0m",
      "\u001b[1;31mAttributeError\u001b[0m                            Traceback (most recent call last)",
      "Cell \u001b[1;32mIn[31], line 1\u001b[0m\n\u001b[1;32m----> 1\u001b[0m t1\u001b[38;5;241m.\u001b[39mlen()\n",
      "\u001b[1;31mAttributeError\u001b[0m: 'tuple' object has no attribute 'len'"
     ]
    }
   ],
   "source": [
    "t1.len() #this is wrong syntax to check the length of tuple"
   ]
  },
  {
   "cell_type": "code",
   "execution_count": 33,
   "id": "ae3c73fb-4e68-4f1c-a3f7-2c2a14a3eb12",
   "metadata": {},
   "outputs": [
    {
     "data": {
      "text/plain": [
       "6"
      ]
     },
     "execution_count": 33,
     "metadata": {},
     "output_type": "execute_result"
    }
   ],
   "source": [
    "len(t1)"
   ]
  },
  {
   "cell_type": "code",
   "execution_count": 43,
   "id": "d0ebbf5b-0117-404a-a2bd-e0865ee02b69",
   "metadata": {},
   "outputs": [],
   "source": [
    "# Some operations on tuples"
   ]
  },
  {
   "cell_type": "code",
   "execution_count": 35,
   "id": "f82c821a-e803-44cc-b879-449043df2cf6",
   "metadata": {},
   "outputs": [],
   "source": [
    "t2 = (3, False, 'c', 4, True, 'd')"
   ]
  },
  {
   "cell_type": "code",
   "execution_count": 39,
   "id": "42673598-5220-4078-bb26-4162ed2153f6",
   "metadata": {},
   "outputs": [],
   "source": [
    "t3 = t1 + t2 # tuples can concatenate with another tuple"
   ]
  },
  {
   "cell_type": "code",
   "execution_count": 41,
   "id": "b084d35a-4358-40b2-ac3b-a54b592347cc",
   "metadata": {},
   "outputs": [
    {
     "data": {
      "text/plain": [
       "(1, True, 'a', 2, False, 'b', 3, False, 'c', 4, True, 'd')"
      ]
     },
     "execution_count": 41,
     "metadata": {},
     "output_type": "execute_result"
    }
   ],
   "source": [
    "t3"
   ]
  },
  {
   "cell_type": "code",
   "execution_count": 45,
   "id": "b7951e02-693b-4de4-b073-9792f2c17325",
   "metadata": {},
   "outputs": [
    {
     "data": {
      "text/plain": [
       "(1, 2, 1, 2, 1, 2)"
      ]
     },
     "execution_count": 45,
     "metadata": {},
     "output_type": "execute_result"
    }
   ],
   "source": [
    "t4 = (1,2)\n",
    "t4*3"
   ]
  },
  {
   "cell_type": "code",
   "execution_count": 47,
   "id": "ba4303c3-30d7-4439-a831-321ad3a2268b",
   "metadata": {},
   "outputs": [
    {
     "data": {
      "text/plain": [
       "(1, 2, 1, 2, 1, 2, 1, True, 'a', 2, False, 'b')"
      ]
     },
     "execution_count": 47,
     "metadata": {},
     "output_type": "execute_result"
    }
   ],
   "source": [
    "t4 * 3 + t1"
   ]
  },
  {
   "cell_type": "code",
   "execution_count": 49,
   "id": "9aa3a354-daeb-46c1-b511-1f105f861f11",
   "metadata": {},
   "outputs": [],
   "source": [
    "t5 = (12,56,78, -12, 8)"
   ]
  },
  {
   "cell_type": "code",
   "execution_count": 51,
   "id": "c0b61d6c-2f4d-44dc-aafb-df4c527f9e06",
   "metadata": {},
   "outputs": [
    {
     "data": {
      "text/plain": [
       "-12"
      ]
     },
     "execution_count": 51,
     "metadata": {},
     "output_type": "execute_result"
    }
   ],
   "source": [
    "min(t5)"
   ]
  },
  {
   "cell_type": "code",
   "execution_count": 53,
   "id": "30b8da11-9e7b-410e-a1bb-4bf7d1b8fc78",
   "metadata": {},
   "outputs": [
    {
     "data": {
      "text/plain": [
       "78"
      ]
     },
     "execution_count": 53,
     "metadata": {},
     "output_type": "execute_result"
    }
   ],
   "source": [
    "max(t5)"
   ]
  },
  {
   "cell_type": "code",
   "execution_count": null,
   "id": "a626648b-4ade-430e-bce8-5315353d2869",
   "metadata": {},
   "outputs": [],
   "source": []
  }
 ],
 "metadata": {
  "kernelspec": {
   "display_name": "Python 3 (ipykernel)",
   "language": "python",
   "name": "python3"
  },
  "language_info": {
   "codemirror_mode": {
    "name": "ipython",
    "version": 3
   },
   "file_extension": ".py",
   "mimetype": "text/x-python",
   "name": "python",
   "nbconvert_exporter": "python",
   "pygments_lexer": "ipython3",
   "version": "3.12.7"
  }
 },
 "nbformat": 4,
 "nbformat_minor": 5
}
