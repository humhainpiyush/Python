{
 "cells": [
  {
   "cell_type": "markdown",
   "id": "c8eba69d-5ec0-46e6-81d8-3c955bcd6ebf",
   "metadata": {},
   "source": [
    "### Set in python is unordered and unindexed collection of elements. It also doesn't contain any duplicates"
   ]
  },
  {
   "cell_type": "markdown",
   "id": "aeef921e-30e6-44fe-952c-a1c54c911cd0",
   "metadata": {},
   "source": [
    "* Like dictionary, it is also enclosed within curly brackets {}."
   ]
  },
  {
   "cell_type": "code",
   "execution_count": 8,
   "id": "b40fe797-5b35-4a20-a6ab-4343bbdb8671",
   "metadata": {},
   "outputs": [
    {
     "data": {
      "text/plain": [
       "{1, 'hulk'}"
      ]
     },
     "execution_count": 8,
     "metadata": {},
     "output_type": "execute_result"
    }
   ],
   "source": [
    "s1 = {1, True, \"hulk\"}\n",
    "s1"
   ]
  },
  {
   "cell_type": "code",
   "execution_count": 10,
   "id": "10944370-235a-43b5-b6b9-a538aa11c749",
   "metadata": {},
   "outputs": [],
   "source": [
    "s1.add(False)"
   ]
  },
  {
   "cell_type": "code",
   "execution_count": 12,
   "id": "c6478e5b-3869-4de9-823d-152021dbe24a",
   "metadata": {},
   "outputs": [
    {
     "data": {
      "text/plain": [
       "{1, False, 'hulk'}"
      ]
     },
     "execution_count": 12,
     "metadata": {},
     "output_type": "execute_result"
    }
   ],
   "source": [
    "s1"
   ]
  },
  {
   "cell_type": "code",
   "execution_count": 14,
   "id": "971230b3-fa7a-47f2-81d9-bc7c51b7cddf",
   "metadata": {},
   "outputs": [],
   "source": [
    "s1.add(True) #to add value inside the set"
   ]
  },
  {
   "cell_type": "code",
   "execution_count": 16,
   "id": "4c3ce14d-f576-4ac6-a5cf-030bc6119528",
   "metadata": {},
   "outputs": [
    {
     "data": {
      "text/plain": [
       "{1, False, 'hulk'}"
      ]
     },
     "execution_count": 16,
     "metadata": {},
     "output_type": "execute_result"
    }
   ],
   "source": [
    "s1"
   ]
  },
  {
   "cell_type": "code",
   "execution_count": 18,
   "id": "386bd4c1-500a-4c03-8366-8a5e9aac2792",
   "metadata": {},
   "outputs": [
    {
     "data": {
      "text/plain": [
       "{1, False, 'hulk', 'jack', 'jill'}"
      ]
     },
     "execution_count": 18,
     "metadata": {},
     "output_type": "execute_result"
    }
   ],
   "source": [
    "# to add multiple values inside the set\n",
    "s1.update([\"jack\", \"jill\"])\n",
    "s1"
   ]
  },
  {
   "cell_type": "code",
   "execution_count": 20,
   "id": "9f9144f0-f51c-4cb4-95bc-334e63c47a8e",
   "metadata": {},
   "outputs": [
    {
     "data": {
      "text/plain": [
       "{1, False, 'hulk', 'jill'}"
      ]
     },
     "execution_count": 20,
     "metadata": {},
     "output_type": "execute_result"
    }
   ],
   "source": [
    "# to remove a value from the set\n",
    "s1.remove(\"jack\")\n",
    "s1"
   ]
  },
  {
   "cell_type": "code",
   "execution_count": 22,
   "id": "73a338f4-26f4-4585-86b9-b7e9f732cb0f",
   "metadata": {},
   "outputs": [
    {
     "data": {
      "text/plain": [
       "{1, 2, 3, 'a', 'b', 'c'}"
      ]
     },
     "execution_count": 22,
     "metadata": {},
     "output_type": "execute_result"
    }
   ],
   "source": [
    "s2 = {1,2,3}\n",
    "s3 = {'a', 'b', 'c'}\n",
    "s2.union(s3) # same as the union of sets"
   ]
  },
  {
   "cell_type": "code",
   "execution_count": 24,
   "id": "0f797796-9810-49a2-8116-661a0a79547f",
   "metadata": {},
   "outputs": [
    {
     "data": {
      "text/plain": [
       "{2, 3}"
      ]
     },
     "execution_count": 24,
     "metadata": {},
     "output_type": "execute_result"
    }
   ],
   "source": [
    "s4 = {2,3,4}\n",
    "s2.intersection(s4) # same as the intersection of sets"
   ]
  },
  {
   "cell_type": "code",
   "execution_count": null,
   "id": "e65230ae-43c0-48a3-b500-97f2538ef0c7",
   "metadata": {},
   "outputs": [],
   "source": []
  }
 ],
 "metadata": {
  "kernelspec": {
   "display_name": "Python 3 (ipykernel)",
   "language": "python",
   "name": "python3"
  },
  "language_info": {
   "codemirror_mode": {
    "name": "ipython",
    "version": 3
   },
   "file_extension": ".py",
   "mimetype": "text/x-python",
   "name": "python",
   "nbconvert_exporter": "python",
   "pygments_lexer": "ipython3",
   "version": "3.12.7"
  }
 },
 "nbformat": 4,
 "nbformat_minor": 5
}
