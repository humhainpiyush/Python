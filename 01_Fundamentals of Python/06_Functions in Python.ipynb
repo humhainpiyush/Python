{
 "cells": [
  {
   "cell_type": "markdown",
   "id": "e7ea3ecb-009b-4fbf-a4fc-a491546ba213",
   "metadata": {},
   "source": [
    "# Functions in Python"
   ]
  },
  {
   "cell_type": "markdown",
   "id": "d9d526d8-c9b2-4704-a914-56c3fb8541e6",
   "metadata": {},
   "source": [
    "* Functions are block of code which are used to perform specific task.\n",
    "* We can use functions wherever we want a certain specific task to be done.\n",
    "* The only difference between loop and function is:\n",
    "    * Looping statements are used when certain specific task is to be performed at the same time and place.\n",
    "    * Functions also does the same task but we can implement a function wherever we want\n",
    "* There are two types of functions in python:\n",
    "    1. Normal Functions\n",
    "    2. Lambda Function (also called as anonymous functions)"
   ]
  },
  {
   "cell_type": "code",
   "execution_count": 7,
   "id": "4dcf6b39-fc5b-4358-89e5-ea930173d5a6",
   "metadata": {},
   "outputs": [
    {
     "name": "stdout",
     "output_type": "stream",
     "text": [
      "Hello World!!\n"
     ]
    }
   ],
   "source": [
    "# Functions without parameters\n",
    "def say_hello():\n",
    "    print(\"Hello World!!\")\n",
    "\n",
    "say_hello()"
   ]
  },
  {
   "cell_type": "code",
   "execution_count": 9,
   "id": "4a97ec82-4604-43f0-bf1b-84f6af898e27",
   "metadata": {},
   "outputs": [
    {
     "data": {
      "text/plain": [
       "28"
      ]
     },
     "execution_count": 9,
     "metadata": {},
     "output_type": "execute_result"
    }
   ],
   "source": [
    "# Functions with parameters\n",
    "def add10(x):\n",
    "    return x + 10\n",
    "\n",
    "add10(18)"
   ]
  },
  {
   "cell_type": "code",
   "execution_count": 17,
   "id": "d5c20a9e-e724-4d4b-996b-4161dee2a00e",
   "metadata": {},
   "outputs": [],
   "source": [
    "def even_odd(x):\n",
    "    if x % 2 == 0:\n",
    "        print(x, \" is Even\")\n",
    "    else:\n",
    "        print(x, \" is Odd\")"
   ]
  },
  {
   "cell_type": "code",
   "execution_count": 21,
   "id": "29c2d968-6565-4db8-b009-921036b70243",
   "metadata": {},
   "outputs": [
    {
     "name": "stdout",
     "output_type": "stream",
     "text": [
      "6  is Even\n"
     ]
    }
   ],
   "source": [
    "even_odd(6)"
   ]
  },
  {
   "cell_type": "code",
   "execution_count": 25,
   "id": "c6dd3811-f2d7-41c1-afff-7af18bbaec45",
   "metadata": {},
   "outputs": [
    {
     "name": "stdout",
     "output_type": "stream",
     "text": [
      "8\n"
     ]
    }
   ],
   "source": [
    "# Lambda functions:\n",
    "g = lambda x : x*x*x\n",
    "print(g(2))"
   ]
  },
  {
   "cell_type": "code",
   "execution_count": 27,
   "id": "6787c740-b9c8-4453-a456-724fddc9e91b",
   "metadata": {},
   "outputs": [
    {
     "name": "stdout",
     "output_type": "stream",
     "text": [
      "[25, 89, 65, 11, 23, 45, 59]\n"
     ]
    }
   ],
   "source": [
    "# Lambda functions with filter\n",
    "lst1 = [12,34,25,89,65,72,11,23,45,59]\n",
    "final_list = list(filter(lambda x: (x%2!=0),lst1))\n",
    "print(final_list)"
   ]
  },
  {
   "cell_type": "code",
   "execution_count": 29,
   "id": "d2e40f36-3c72-46b5-8a57-9ebd943bbd80",
   "metadata": {},
   "outputs": [],
   "source": [
    "# Lambda functions with map\n",
    "lst1 = [12,34,25,89,65,72,11,23,45,59]\n",
    "final_list = list(map(lambda x: x * 2,lst1))"
   ]
  },
  {
   "cell_type": "code",
   "execution_count": 31,
   "id": "8e287cab-6a41-4e30-acc5-f6f2a213232c",
   "metadata": {},
   "outputs": [
    {
     "name": "stdout",
     "output_type": "stream",
     "text": [
      "[24, 68, 50, 178, 130, 144, 22, 46, 90, 118]\n"
     ]
    }
   ],
   "source": [
    "print(final_list)"
   ]
  },
  {
   "cell_type": "code",
   "execution_count": 35,
   "id": "c9def0d6-efbc-4ce4-b90e-530b1708a1e7",
   "metadata": {},
   "outputs": [
    {
     "name": "stdout",
     "output_type": "stream",
     "text": [
      "15\n"
     ]
    }
   ],
   "source": [
    "from functools import reduce\n",
    "\n",
    "lst1 = [1, 2, 3, 4, 5]\n",
    "sum_of_list = reduce((lambda x, y : x + y), lst1)\n",
    "\n",
    "print(sum_of_list)"
   ]
  },
  {
   "cell_type": "code",
   "execution_count": null,
   "id": "f1b0944f-c41c-459f-a3a0-ecd91890b3ee",
   "metadata": {},
   "outputs": [],
   "source": []
  }
 ],
 "metadata": {
  "kernelspec": {
   "display_name": "Python 3 (ipykernel)",
   "language": "python",
   "name": "python3"
  },
  "language_info": {
   "codemirror_mode": {
    "name": "ipython",
    "version": 3
   },
   "file_extension": ".py",
   "mimetype": "text/x-python",
   "name": "python",
   "nbconvert_exporter": "python",
   "pygments_lexer": "ipython3",
   "version": "3.12.7"
  }
 },
 "nbformat": 4,
 "nbformat_minor": 5
}
