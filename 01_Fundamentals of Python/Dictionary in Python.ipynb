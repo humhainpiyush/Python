{
 "cells": [
  {
   "cell_type": "code",
   "execution_count": 3,
   "id": "bca45d21-5ff1-430e-bb38-ea68762d52ca",
   "metadata": {},
   "outputs": [],
   "source": [
    "#Dictionary is a key-value pair in python enclosed within the curly braces {}\n",
    "#Dictionary is also mutable\n",
    "#Dictionary is unordered"
   ]
  },
  {
   "cell_type": "code",
   "execution_count": 5,
   "id": "17611d88-c304-467e-80ea-89e1cec4c269",
   "metadata": {},
   "outputs": [
    {
     "data": {
      "text/plain": [
       "dict"
      ]
     },
     "execution_count": 5,
     "metadata": {},
     "output_type": "execute_result"
    }
   ],
   "source": [
    "dict1 = {\"Apple\" : 10, \"Orange\":20, \"Banana\":50, \"Cashew\":100}\n",
    "type(dict1)"
   ]
  },
  {
   "cell_type": "code",
   "execution_count": 7,
   "id": "cc2d871a-df4d-4607-a90b-590369e0531d",
   "metadata": {},
   "outputs": [
    {
     "data": {
      "text/plain": [
       "<function dict.keys>"
      ]
     },
     "execution_count": 7,
     "metadata": {},
     "output_type": "execute_result"
    }
   ],
   "source": [
    "dict1.keys"
   ]
  },
  {
   "cell_type": "code",
   "execution_count": 9,
   "id": "99d1a6b8-e54b-4960-babd-04f3c7b2ba89",
   "metadata": {},
   "outputs": [
    {
     "data": {
      "text/plain": [
       "dict_keys(['Apple', 'Orange', 'Banana', 'Cashew'])"
      ]
     },
     "execution_count": 9,
     "metadata": {},
     "output_type": "execute_result"
    }
   ],
   "source": [
    "dict1.keys() #for getting only the keys"
   ]
  },
  {
   "cell_type": "code",
   "execution_count": 11,
   "id": "2d6e5d8c-2c55-4f8e-ae8b-5700337df9f0",
   "metadata": {},
   "outputs": [
    {
     "data": {
      "text/plain": [
       "dict_values([10, 20, 50, 100])"
      ]
     },
     "execution_count": 11,
     "metadata": {},
     "output_type": "execute_result"
    }
   ],
   "source": [
    "dict1.values() #for getting only the values"
   ]
  },
  {
   "cell_type": "code",
   "execution_count": 15,
   "id": "83db24f9-8f32-4865-9acf-5fec20c68198",
   "metadata": {},
   "outputs": [
    {
     "data": {
      "text/plain": [
       "dict_items([('Apple', 10), ('Orange', 20), ('Banana', 50), ('Cashew', 100)])"
      ]
     },
     "execution_count": 15,
     "metadata": {},
     "output_type": "execute_result"
    }
   ],
   "source": [
    "dict1.items() #for getting both; keys and values"
   ]
  },
  {
   "cell_type": "code",
   "execution_count": 17,
   "id": "9dfbc592-0e34-48f7-b23b-b34e68db843f",
   "metadata": {},
   "outputs": [
    {
     "data": {
      "text/plain": [
       "{'Apple': 10, 'Orange': 20, 'Banana': 50, 'Cashew': 100, 'Mango': 70}"
      ]
     },
     "execution_count": 17,
     "metadata": {},
     "output_type": "execute_result"
    }
   ],
   "source": [
    "#for adding a new element\n",
    "dict1[\"Mango\"] = 70\n",
    "dict1"
   ]
  },
  {
   "cell_type": "code",
   "execution_count": 19,
   "id": "674ec7ad-9082-4ca3-b82b-be8959881a28",
   "metadata": {},
   "outputs": [
    {
     "data": {
      "text/plain": [
       "{'Apple': 10, 'Orange': 20, 'Banana': 50, 'Cashew': 200, 'Mango': 70}"
      ]
     },
     "execution_count": 19,
     "metadata": {},
     "output_type": "execute_result"
    }
   ],
   "source": [
    "#for changing the existing element\n",
    "dict1[\"Cashew\"] = 200\n",
    "dict1"
   ]
  },
  {
   "cell_type": "code",
   "execution_count": 25,
   "id": "9b5009b8-d242-49ca-bafe-449631e305e1",
   "metadata": {},
   "outputs": [],
   "source": [
    "dict2 ={\"Marigold\":1, \"Rose\":3, \"Lotus\":4}\n",
    "dict3 = {\"Lily\":5, \"China Rose\":2, \"Jasmine\":8}\n",
    "dict2.update(dict3) #for updating one dictionary with the value of another dictionary"
   ]
  },
  {
   "cell_type": "code",
   "execution_count": 27,
   "id": "e710b6cb-bbd2-4116-a9ae-0af26770e111",
   "metadata": {},
   "outputs": [
    {
     "data": {
      "text/plain": [
       "{'Marigold': 1,\n",
       " 'Rose': 3,\n",
       " 'Lotus': 4,\n",
       " 'Lily': 5,\n",
       " 'China Rose': 2,\n",
       " 'Jasmine': 8}"
      ]
     },
     "execution_count": 27,
     "metadata": {},
     "output_type": "execute_result"
    }
   ],
   "source": [
    "dict2"
   ]
  },
  {
   "cell_type": "code",
   "execution_count": 29,
   "id": "b84a7070-634d-45eb-88bd-c26ad5534be9",
   "metadata": {},
   "outputs": [
    {
     "data": {
      "text/plain": [
       "{'Marigold': 1, 'Rose': 3, 'Lotus': 4, 'Lily': 5, 'Jasmine': 8}"
      ]
     },
     "execution_count": 29,
     "metadata": {},
     "output_type": "execute_result"
    }
   ],
   "source": [
    "#for popping an element out of the dictionary\n",
    "dict2.pop(\"China Rose\")\n",
    "dict2"
   ]
  },
  {
   "cell_type": "code",
   "execution_count": null,
   "id": "6802fbbd-5312-4033-9ff3-a922807c01b8",
   "metadata": {},
   "outputs": [],
   "source": []
  }
 ],
 "metadata": {
  "kernelspec": {
   "display_name": "Python 3 (ipykernel)",
   "language": "python",
   "name": "python3"
  },
  "language_info": {
   "codemirror_mode": {
    "name": "ipython",
    "version": 3
   },
   "file_extension": ".py",
   "mimetype": "text/x-python",
   "name": "python",
   "nbconvert_exporter": "python",
   "pygments_lexer": "ipython3",
   "version": "3.12.7"
  }
 },
 "nbformat": 4,
 "nbformat_minor": 5
}
