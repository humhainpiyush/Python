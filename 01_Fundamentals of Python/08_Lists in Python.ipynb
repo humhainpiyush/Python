{
 "cells": [
  {
   "cell_type": "code",
   "execution_count": 1,
   "id": "9fd23bf2-fff6-49b3-952e-535dc2ec0ccb",
   "metadata": {},
   "outputs": [],
   "source": [
    "# Lists in python"
   ]
  },
  {
   "cell_type": "code",
   "execution_count": 3,
   "id": "e88d0ffa-80d6-4f50-9b71-a53e6111dbb0",
   "metadata": {},
   "outputs": [],
   "source": [
    "l1 = [1, 'spiderman', True, 3.14, 2+3j]"
   ]
  },
  {
   "cell_type": "code",
   "execution_count": 5,
   "id": "319bcbc4-e7e6-45de-baa9-71015b3f1ca2",
   "metadata": {},
   "outputs": [
    {
     "data": {
      "text/plain": [
       "list"
      ]
     },
     "execution_count": 5,
     "metadata": {},
     "output_type": "execute_result"
    }
   ],
   "source": [
    "type(l1)"
   ]
  },
  {
   "cell_type": "code",
   "execution_count": 7,
   "id": "d14e513d-8f32-4357-83ef-f025dfdb1ad8",
   "metadata": {},
   "outputs": [
    {
     "data": {
      "text/plain": [
       "'spiderman'"
      ]
     },
     "execution_count": 7,
     "metadata": {},
     "output_type": "execute_result"
    }
   ],
   "source": [
    "l1[1]"
   ]
  },
  {
   "cell_type": "code",
   "execution_count": 9,
   "id": "e14a0bfb-689f-4f17-b657-7507a1c49b24",
   "metadata": {},
   "outputs": [
    {
     "data": {
      "text/plain": [
       "1"
      ]
     },
     "execution_count": 9,
     "metadata": {},
     "output_type": "execute_result"
    }
   ],
   "source": [
    "l1[0]"
   ]
  },
  {
   "cell_type": "code",
   "execution_count": 11,
   "id": "06fdc362-f0eb-4e42-be44-a871698ecd42",
   "metadata": {},
   "outputs": [
    {
     "data": {
      "text/plain": [
       "(2+3j)"
      ]
     },
     "execution_count": 11,
     "metadata": {},
     "output_type": "execute_result"
    }
   ],
   "source": [
    "l1[-1]"
   ]
  },
  {
   "cell_type": "code",
   "execution_count": 13,
   "id": "2ae5b04d-a415-4d01-b3d2-ab0454ba5ff0",
   "metadata": {},
   "outputs": [
    {
     "data": {
      "text/plain": [
       "[1, 'spiderman', True]"
      ]
     },
     "execution_count": 13,
     "metadata": {},
     "output_type": "execute_result"
    }
   ],
   "source": [
    "l1[0:3]"
   ]
  },
  {
   "cell_type": "code",
   "execution_count": 17,
   "id": "40027a50-6caa-4348-9946-87de6a99e84e",
   "metadata": {},
   "outputs": [],
   "source": [
    "# Lists are mutable i.e., we can replace, append and remove"
   ]
  },
  {
   "cell_type": "code",
   "execution_count": 19,
   "id": "e1cb171d-cd72-409b-a94d-e56112368467",
   "metadata": {},
   "outputs": [
    {
     "data": {
      "text/plain": [
       "[5, 'spiderman', True, 3.14, (2+3j)]"
      ]
     },
     "execution_count": 19,
     "metadata": {},
     "output_type": "execute_result"
    }
   ],
   "source": [
    "l1[0] = 5 #replacing the element at the 0th index\n",
    "l1"
   ]
  },
  {
   "cell_type": "code",
   "execution_count": 21,
   "id": "a8b067b5-e35a-4578-acee-40f58568753f",
   "metadata": {},
   "outputs": [],
   "source": [
    "l1.append(\"Vasudev\") #Syntax for appending"
   ]
  },
  {
   "cell_type": "code",
   "execution_count": 23,
   "id": "603eaa0d-e13e-4f50-a113-f8dd59315940",
   "metadata": {},
   "outputs": [
    {
     "data": {
      "text/plain": [
       "[5, 'spiderman', True, 3.14, (2+3j), 'Vasudev']"
      ]
     },
     "execution_count": 23,
     "metadata": {},
     "output_type": "execute_result"
    }
   ],
   "source": [
    "l1"
   ]
  },
  {
   "cell_type": "code",
   "execution_count": 27,
   "id": "7b71cb2d-f160-42bb-a312-b8629463cc88",
   "metadata": {},
   "outputs": [
    {
     "data": {
      "text/plain": [
       "[5, 'spiderman', True, 3.14]"
      ]
     },
     "execution_count": 27,
     "metadata": {},
     "output_type": "execute_result"
    }
   ],
   "source": [
    "l1.pop() #for removing the last element\n",
    "l1"
   ]
  },
  {
   "cell_type": "code",
   "execution_count": 29,
   "id": "df5f57b6-f44b-4914-a897-80403c36485a",
   "metadata": {},
   "outputs": [],
   "source": [
    "l1.reverse() #for the reversing the order of the values of the list"
   ]
  },
  {
   "cell_type": "code",
   "execution_count": 31,
   "id": "7df3181b-e071-49d0-b567-57662f6375f0",
   "metadata": {},
   "outputs": [
    {
     "data": {
      "text/plain": [
       "[3.14, True, 'spiderman', 5]"
      ]
     },
     "execution_count": 31,
     "metadata": {},
     "output_type": "execute_result"
    }
   ],
   "source": [
    "l1"
   ]
  },
  {
   "cell_type": "code",
   "execution_count": 33,
   "id": "3abb7468-f64b-4bbc-915c-f01460826bf8",
   "metadata": {},
   "outputs": [
    {
     "data": {
      "text/plain": [
       "[3.14, True, 'spiderman', 'venom', 5]"
      ]
     },
     "execution_count": 33,
     "metadata": {},
     "output_type": "execute_result"
    }
   ],
   "source": [
    "l1.insert(3, \"venom\") #for inserting the value at the specified index\n",
    "l1"
   ]
  },
  {
   "cell_type": "code",
   "execution_count": 37,
   "id": "ee279e42-ead9-424c-b0e4-665ef7167dc9",
   "metadata": {},
   "outputs": [
    {
     "ename": "TypeError",
     "evalue": "'<' not supported between instances of 'str' and 'bool'",
     "output_type": "error",
     "traceback": [
      "\u001b[1;31m---------------------------------------------------------------------------\u001b[0m",
      "\u001b[1;31mTypeError\u001b[0m                                 Traceback (most recent call last)",
      "Cell \u001b[1;32mIn[37], line 1\u001b[0m\n\u001b[1;32m----> 1\u001b[0m l1\u001b[38;5;241m.\u001b[39msort()\n",
      "\u001b[1;31mTypeError\u001b[0m: '<' not supported between instances of 'str' and 'bool'"
     ]
    }
   ],
   "source": [
    "l1.sort() #for sorting the element of the list\n",
    "#only like data type elements can be sorted"
   ]
  },
  {
   "cell_type": "code",
   "execution_count": 39,
   "id": "157f5a9c-152e-4dae-8b60-59acd3a75104",
   "metadata": {},
   "outputs": [],
   "source": [
    "l2 = [2,7,5,8,9]"
   ]
  },
  {
   "cell_type": "code",
   "execution_count": 41,
   "id": "add79be1-82cd-4e8f-8beb-df0854e4dba5",
   "metadata": {},
   "outputs": [],
   "source": [
    "l2.sort()"
   ]
  },
  {
   "cell_type": "code",
   "execution_count": 43,
   "id": "bbd350a0-b74c-4a26-8c63-8d0a96a3d037",
   "metadata": {},
   "outputs": [
    {
     "data": {
      "text/plain": [
       "[2, 5, 7, 8, 9]"
      ]
     },
     "execution_count": 43,
     "metadata": {},
     "output_type": "execute_result"
    }
   ],
   "source": [
    "l2"
   ]
  },
  {
   "cell_type": "code",
   "execution_count": 45,
   "id": "f83888c4-0700-4943-8111-843dd18ca591",
   "metadata": {},
   "outputs": [
    {
     "data": {
      "text/plain": [
       "[2, 5, 7, 8, 9, 2, 5, 7, 8, 9, 2, 5, 7, 8, 9]"
      ]
     },
     "execution_count": 45,
     "metadata": {},
     "output_type": "execute_result"
    }
   ],
   "source": [
    "l2*3"
   ]
  },
  {
   "cell_type": "code",
   "execution_count": 47,
   "id": "cfa4f166-b9c3-4fe1-9c72-ac8419a0043e",
   "metadata": {},
   "outputs": [
    {
     "data": {
      "text/plain": [
       "[3.14, True, 'spiderman', 'venom', 5, 2, 5, 7, 8, 9]"
      ]
     },
     "execution_count": 47,
     "metadata": {},
     "output_type": "execute_result"
    }
   ],
   "source": [
    "l1 + l2"
   ]
  },
  {
   "cell_type": "code",
   "execution_count": null,
   "id": "9e368600-d5bd-455d-8451-7b7b5c41d727",
   "metadata": {},
   "outputs": [],
   "source": []
  }
 ],
 "metadata": {
  "kernelspec": {
   "display_name": "Python 3 (ipykernel)",
   "language": "python",
   "name": "python3"
  },
  "language_info": {
   "codemirror_mode": {
    "name": "ipython",
    "version": 3
   },
   "file_extension": ".py",
   "mimetype": "text/x-python",
   "name": "python",
   "nbconvert_exporter": "python",
   "pygments_lexer": "ipython3",
   "version": "3.12.7"
  }
 },
 "nbformat": 4,
 "nbformat_minor": 5
}
