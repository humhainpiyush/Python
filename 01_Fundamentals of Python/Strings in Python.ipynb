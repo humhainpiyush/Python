{
 "cells": [
  {
   "cell_type": "code",
   "execution_count": 1,
   "id": "53ddcd57-cd5a-48f5-94c8-382f46ab1fad",
   "metadata": {},
   "outputs": [
    {
     "data": {
      "text/plain": [
       "'This a single quoted string'"
      ]
     },
     "execution_count": 1,
     "metadata": {},
     "output_type": "execute_result"
    }
   ],
   "source": [
    "s1 = 'This a single quoted string'\n",
    "s1"
   ]
  },
  {
   "cell_type": "code",
   "execution_count": 3,
   "id": "983e2052-5e86-4841-93f3-ceed34a82915",
   "metadata": {},
   "outputs": [
    {
     "data": {
      "text/plain": [
       "'This is double quoted string'"
      ]
     },
     "execution_count": 3,
     "metadata": {},
     "output_type": "execute_result"
    }
   ],
   "source": [
    "s2 = \"This is double quoted string\"\n",
    "s2"
   ]
  },
  {
   "cell_type": "code",
   "execution_count": 5,
   "id": "c44df8fa-0abf-4733-be27-b3481277db57",
   "metadata": {},
   "outputs": [
    {
     "data": {
      "text/plain": [
       "'This is triple quoted string.\\n        It is used where multi-line strings are used'"
      ]
     },
     "execution_count": 5,
     "metadata": {},
     "output_type": "execute_result"
    }
   ],
   "source": [
    "s3 = '''This is triple quoted string.\n",
    "        It is used where multi-line strings are used'''\n",
    "s3"
   ]
  },
  {
   "cell_type": "code",
   "execution_count": 7,
   "id": "29042b8f-aea8-40d7-beb2-69f89f0afc05",
   "metadata": {},
   "outputs": [
    {
     "name": "stdout",
     "output_type": "stream",
     "text": [
      "Ram said, \"Krishna is notorius\".\n"
     ]
    }
   ],
   "source": [
    "#Also single quotes are used when there is a need to avoid escaping of double quotes\n",
    "s4 = 'Ram said, \"Krishna is notorius\".'\n",
    "print(s4)"
   ]
  },
  {
   "cell_type": "code",
   "execution_count": 11,
   "id": "9bf805ec-59c4-4440-b06a-0795a45846e6",
   "metadata": {},
   "outputs": [
    {
     "name": "stdout",
     "output_type": "stream",
     "text": [
      "Lord Hanuman is also known as 'Pavanputra'.\n"
     ]
    }
   ],
   "source": [
    "# and vice versa with double quotes, i.e., when single quotes avoid escaping\n",
    "s5 = \"Lord Hanuman is also known as 'Pavanputra'.\"\n",
    "print(s5)"
   ]
  },
  {
   "cell_type": "code",
   "execution_count": 17,
   "id": "927677cf-63a7-4696-9b1b-c59497a56008",
   "metadata": {},
   "outputs": [],
   "source": [
    "## Extracting the string"
   ]
  },
  {
   "cell_type": "code",
   "execution_count": 19,
   "id": "b783a04f-78c1-4844-8973-62db0b8a738d",
   "metadata": {},
   "outputs": [
    {
     "data": {
      "text/plain": [
       "'u'"
      ]
     },
     "execution_count": 19,
     "metadata": {},
     "output_type": "execute_result"
    }
   ],
   "source": [
    "s5[8]"
   ]
  },
  {
   "cell_type": "code",
   "execution_count": 21,
   "id": "fed4875e-8034-4724-9966-9740b8408f9a",
   "metadata": {},
   "outputs": [
    {
     "data": {
      "text/plain": [
       "\"'\""
      ]
     },
     "execution_count": 21,
     "metadata": {},
     "output_type": "execute_result"
    }
   ],
   "source": [
    "s5[-2]"
   ]
  },
  {
   "cell_type": "code",
   "execution_count": 23,
   "id": "873b4546-99b4-4269-a2da-9411456ef90c",
   "metadata": {},
   "outputs": [
    {
     "data": {
      "text/plain": [
       "'Lord'"
      ]
     },
     "execution_count": 23,
     "metadata": {},
     "output_type": "execute_result"
    }
   ],
   "source": [
    "s5[0:4]"
   ]
  },
  {
   "cell_type": "code",
   "execution_count": 25,
   "id": "326432ab-ee46-4b87-91b1-d84d9856638d",
   "metadata": {},
   "outputs": [],
   "source": [
    "## Some functions of string:"
   ]
  },
  {
   "cell_type": "code",
   "execution_count": 27,
   "id": "221742f3-6170-4750-bf27-0dc4ad3402b3",
   "metadata": {},
   "outputs": [],
   "source": [
    "name = \"Piyush Ranjan\""
   ]
  },
  {
   "cell_type": "code",
   "execution_count": 29,
   "id": "af990b28-d812-4202-8831-1fdf4ecb3f0b",
   "metadata": {},
   "outputs": [
    {
     "data": {
      "text/plain": [
       "'PIYUSH RANJAN'"
      ]
     },
     "execution_count": 29,
     "metadata": {},
     "output_type": "execute_result"
    }
   ],
   "source": [
    "name.upper()"
   ]
  },
  {
   "cell_type": "code",
   "execution_count": 31,
   "id": "7cf4bc6f-bacd-4876-8265-83697c51be90",
   "metadata": {},
   "outputs": [
    {
     "data": {
      "text/plain": [
       "'piyush ranjan'"
      ]
     },
     "execution_count": 31,
     "metadata": {},
     "output_type": "execute_result"
    }
   ],
   "source": [
    "name.lower()"
   ]
  },
  {
   "cell_type": "code",
   "execution_count": 35,
   "id": "16236faf-cbd1-412c-941f-b77d72cf6d98",
   "metadata": {},
   "outputs": [
    {
     "data": {
      "text/plain": [
       "'Ayush Ranjan'"
      ]
     },
     "execution_count": 35,
     "metadata": {},
     "output_type": "execute_result"
    }
   ],
   "source": [
    "name.replace('Pi','A')"
   ]
  },
  {
   "cell_type": "code",
   "execution_count": 37,
   "id": "0d9e7e84-9aa9-4f55-88c9-edbec5744809",
   "metadata": {},
   "outputs": [],
   "source": [
    "string_sample = \"hello this is piyush...hello hello is my voice reaching you.\""
   ]
  },
  {
   "cell_type": "code",
   "execution_count": 39,
   "id": "325b7c4b-a728-4196-8bbc-d1bf260b16aa",
   "metadata": {},
   "outputs": [
    {
     "data": {
      "text/plain": [
       "3"
      ]
     },
     "execution_count": 39,
     "metadata": {},
     "output_type": "execute_result"
    }
   ],
   "source": [
    "string_sample.count(\"hello\")"
   ]
  },
  {
   "cell_type": "code",
   "execution_count": 41,
   "id": "9d7fea82-ee4d-47de-bb61-5534bc6da7ec",
   "metadata": {},
   "outputs": [
    {
     "data": {
      "text/plain": [
       "14"
      ]
     },
     "execution_count": 41,
     "metadata": {},
     "output_type": "execute_result"
    }
   ],
   "source": [
    "string_sample.find(\"piyush\")"
   ]
  },
  {
   "cell_type": "code",
   "execution_count": 43,
   "id": "385b30cb-cc34-4d68-ba26-556e9630fea4",
   "metadata": {},
   "outputs": [
    {
     "data": {
      "text/plain": [
       "['', ' this is piyush...', ' ', ' is my voice reaching you.']"
      ]
     },
     "execution_count": 43,
     "metadata": {},
     "output_type": "execute_result"
    }
   ],
   "source": [
    "string_sample.split(\"hello\")"
   ]
  },
  {
   "cell_type": "code",
   "execution_count": null,
   "id": "46c46bb6-414b-4a3a-a216-406892c26c2a",
   "metadata": {},
   "outputs": [],
   "source": []
  }
 ],
 "metadata": {
  "kernelspec": {
   "display_name": "Python 3 (ipykernel)",
   "language": "python",
   "name": "python3"
  },
  "language_info": {
   "codemirror_mode": {
    "name": "ipython",
    "version": 3
   },
   "file_extension": ".py",
   "mimetype": "text/x-python",
   "name": "python",
   "nbconvert_exporter": "python",
   "pygments_lexer": "ipython3",
   "version": "3.12.7"
  }
 },
 "nbformat": 4,
 "nbformat_minor": 5
}
