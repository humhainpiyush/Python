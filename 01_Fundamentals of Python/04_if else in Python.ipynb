{
 "cells": [
  {
   "cell_type": "markdown",
   "id": "721c0fde-cfac-4b47-8ea9-b83e011beac0",
   "metadata": {},
   "source": [
    "### if-else statements in Python:"
   ]
  },
  {
   "cell_type": "markdown",
   "id": "492bd275-8ea8-4c07-a30d-7ee23a596177",
   "metadata": {},
   "source": [
    "* these are also called conditionals statements"
   ]
  },
  {
   "cell_type": "code",
   "execution_count": 4,
   "id": "cac86409-03b7-4ee1-908d-d192a58e549b",
   "metadata": {},
   "outputs": [],
   "source": [
    "a = 10\n",
    "b = 20"
   ]
  },
  {
   "cell_type": "code",
   "execution_count": 6,
   "id": "84c6d17f-5472-476c-bb89-ea39e98d6077",
   "metadata": {},
   "outputs": [],
   "source": [
    "if a > b:\n",
    "    print(\"a is greater than b\")"
   ]
  },
  {
   "cell_type": "code",
   "execution_count": 8,
   "id": "5bd4ce24-ea2b-4226-ab9c-813a035f5500",
   "metadata": {},
   "outputs": [
    {
     "name": "stdout",
     "output_type": "stream",
     "text": [
      "b is greater than a\n"
     ]
    }
   ],
   "source": [
    "if a > b:\n",
    "    print(\"a is greater than b\")\n",
    "else:\n",
    "    print(\"b is greater than a\")"
   ]
  },
  {
   "cell_type": "code",
   "execution_count": 10,
   "id": "a9a9cee3-561d-4397-a9a8-edc265878c11",
   "metadata": {},
   "outputs": [],
   "source": [
    "a = 1\n",
    "b = 3\n",
    "c = 4\n"
   ]
  },
  {
   "cell_type": "code",
   "execution_count": 12,
   "id": "1b202d86-8ed4-45a1-8332-ae1ecdbdb34e",
   "metadata": {},
   "outputs": [
    {
     "name": "stdout",
     "output_type": "stream",
     "text": [
      "c is the greatest\n"
     ]
    }
   ],
   "source": [
    "if (a > b & a > c):\n",
    "    print(\"a is the greatest\")\n",
    "elif (b > a & b > c):\n",
    "    print(\"b is the greatest\")\n",
    "else:\n",
    "    print(\"c is the greatest\")"
   ]
  },
  {
   "cell_type": "markdown",
   "id": "320051eb-51d3-48bd-8d93-293ffe0b5f82",
   "metadata": {},
   "source": [
    "### we can also use if-else statements for the data structures"
   ]
  },
  {
   "cell_type": "markdown",
   "id": "bb915039-b15e-4905-b6f1-9ea3b9856f7f",
   "metadata": {},
   "source": [
    "* for tuples:"
   ]
  },
  {
   "cell_type": "code",
   "execution_count": 16,
   "id": "aaec1bbb-8bdf-463e-a9f2-ceacc6db48d2",
   "metadata": {},
   "outputs": [
    {
     "name": "stdout",
     "output_type": "stream",
     "text": [
      "6 is not present in tup1\n"
     ]
    }
   ],
   "source": [
    "tup1 = (1,2,3,4)\n",
    "if 6 in tup1:\n",
    "    print(\"6 is present in tup1\")\n",
    "else:\n",
    "    print(\"6 is not present in tup1\")"
   ]
  },
  {
   "cell_type": "markdown",
   "id": "b6e6d10c-e851-479f-8303-f6b9ff8fd3b6",
   "metadata": {},
   "source": [
    "* for lists:"
   ]
  },
  {
   "cell_type": "code",
   "execution_count": 27,
   "id": "4d452111-8508-4109-ba57-b18a1d261588",
   "metadata": {},
   "outputs": [
    {
     "data": {
      "text/plain": [
       "[1, 102, 3, 4]"
      ]
     },
     "execution_count": 27,
     "metadata": {},
     "output_type": "execute_result"
    }
   ],
   "source": [
    "list1 = [1,2,3,4]\n",
    "if list1[1] == 2:\n",
    "    list1[1] = list1[1] + 100\n",
    "list1"
   ]
  },
  {
   "cell_type": "code",
   "execution_count": 29,
   "id": "412154e1-2c20-40c1-922a-2b3143b2654e",
   "metadata": {},
   "outputs": [],
   "source": [
    "if list1[2] == 3:\n",
    "    list1[2] = list1[2] + 300\n",
    "else:\n",
    "    list1[2] = list1[2] + 500"
   ]
  },
  {
   "cell_type": "code",
   "execution_count": 31,
   "id": "a330186e-9a66-448c-b478-e5072098dce2",
   "metadata": {},
   "outputs": [
    {
     "data": {
      "text/plain": [
       "[1, 102, 303, 4]"
      ]
     },
     "execution_count": 31,
     "metadata": {},
     "output_type": "execute_result"
    }
   ],
   "source": [
    "list1"
   ]
  },
  {
   "cell_type": "markdown",
   "id": "c827a58e-9aef-4859-987c-89739ab64d12",
   "metadata": {},
   "source": [
    "* for dictionaries:"
   ]
  },
  {
   "cell_type": "code",
   "execution_count": 34,
   "id": "3d206786-61da-4b0b-bb21-18def08be252",
   "metadata": {},
   "outputs": [],
   "source": [
    "dic1 = {\"a\": 1, \"b\":2, \"c\":3}"
   ]
  },
  {
   "cell_type": "code",
   "execution_count": 36,
   "id": "cde6a332-4630-486c-9219-132b74492a8c",
   "metadata": {},
   "outputs": [
    {
     "data": {
      "text/plain": [
       "{'a': 1, 'b': 2, 'c': 3}"
      ]
     },
     "execution_count": 36,
     "metadata": {},
     "output_type": "execute_result"
    }
   ],
   "source": [
    "dic1"
   ]
  },
  {
   "cell_type": "code",
   "execution_count": 38,
   "id": "366b2930-29fa-4db0-a78b-40daa586568d",
   "metadata": {},
   "outputs": [
    {
     "data": {
      "text/plain": [
       "{'a': 1, 'b': 102, 'c': 3}"
      ]
     },
     "execution_count": 38,
     "metadata": {},
     "output_type": "execute_result"
    }
   ],
   "source": [
    "if dic1[\"b\"] == 2:\n",
    "    dic1[\"b\"] = dic1[\"b\"] + 100\n",
    "dic1"
   ]
  },
  {
   "cell_type": "code",
   "execution_count": null,
   "id": "28b192a7-cd7f-4c4e-b474-0e168b5bfcdd",
   "metadata": {},
   "outputs": [],
   "source": []
  }
 ],
 "metadata": {
  "kernelspec": {
   "display_name": "Python 3 (ipykernel)",
   "language": "python",
   "name": "python3"
  },
  "language_info": {
   "codemirror_mode": {
    "name": "ipython",
    "version": 3
   },
   "file_extension": ".py",
   "mimetype": "text/x-python",
   "name": "python",
   "nbconvert_exporter": "python",
   "pygments_lexer": "ipython3",
   "version": "3.12.7"
  }
 },
 "nbformat": 4,
 "nbformat_minor": 5
}
