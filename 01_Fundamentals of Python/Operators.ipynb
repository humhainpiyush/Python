{
 "cells": [
  {
   "cell_type": "code",
   "execution_count": null,
   "id": "cfcf3abe-976d-41bc-b06d-7e6f192937fc",
   "metadata": {},
   "outputs": [],
   "source": [
    "## Operators in Python"
   ]
  },
  {
   "cell_type": "code",
   "execution_count": 1,
   "id": "c9a39561-54d3-4893-addc-ed0433fdc8d2",
   "metadata": {},
   "outputs": [],
   "source": [
    "a = 10\n",
    "b = 20"
   ]
  },
  {
   "cell_type": "code",
   "execution_count": 3,
   "id": "0e6c3115-ec29-41bc-b69a-d8337b6258a7",
   "metadata": {},
   "outputs": [],
   "source": [
    "## +, -, *, / --> Arithmetic operators"
   ]
  },
  {
   "cell_type": "code",
   "execution_count": 5,
   "id": "8954cfff-9e5a-4e44-a003-784c261204f7",
   "metadata": {},
   "outputs": [
    {
     "data": {
      "text/plain": [
       "30"
      ]
     },
     "execution_count": 5,
     "metadata": {},
     "output_type": "execute_result"
    }
   ],
   "source": [
    "a + b"
   ]
  },
  {
   "cell_type": "code",
   "execution_count": 7,
   "id": "fcd5a0d5-e668-41bf-9ca1-9bdbbac84550",
   "metadata": {},
   "outputs": [
    {
     "data": {
      "text/plain": [
       "-10"
      ]
     },
     "execution_count": 7,
     "metadata": {},
     "output_type": "execute_result"
    }
   ],
   "source": [
    "a - b"
   ]
  },
  {
   "cell_type": "code",
   "execution_count": 9,
   "id": "96c37fa7-a082-408e-99dd-9e8a0fda870a",
   "metadata": {},
   "outputs": [
    {
     "data": {
      "text/plain": [
       "10"
      ]
     },
     "execution_count": 9,
     "metadata": {},
     "output_type": "execute_result"
    }
   ],
   "source": [
    "b - a"
   ]
  },
  {
   "cell_type": "code",
   "execution_count": 11,
   "id": "1a80739f-39f7-4111-aebd-046704a6a5b6",
   "metadata": {},
   "outputs": [
    {
     "data": {
      "text/plain": [
       "200"
      ]
     },
     "execution_count": 11,
     "metadata": {},
     "output_type": "execute_result"
    }
   ],
   "source": [
    "a * b"
   ]
  },
  {
   "cell_type": "code",
   "execution_count": 13,
   "id": "31af2dd0-cdb4-4331-bce1-706131088524",
   "metadata": {},
   "outputs": [
    {
     "data": {
      "text/plain": [
       "0.5"
      ]
     },
     "execution_count": 13,
     "metadata": {},
     "output_type": "execute_result"
    }
   ],
   "source": [
    "a / b"
   ]
  },
  {
   "cell_type": "code",
   "execution_count": 15,
   "id": "e2ec0106-8b18-4885-b5cd-3c662e030830",
   "metadata": {},
   "outputs": [],
   "source": [
    "## Relational Operators : >, <, ==, !="
   ]
  },
  {
   "cell_type": "code",
   "execution_count": 17,
   "id": "9ed815c6-b8cf-4470-835a-ba73c1afb9f3",
   "metadata": {},
   "outputs": [
    {
     "data": {
      "text/plain": [
       "False"
      ]
     },
     "execution_count": 17,
     "metadata": {},
     "output_type": "execute_result"
    }
   ],
   "source": [
    "a > b"
   ]
  },
  {
   "cell_type": "code",
   "execution_count": 19,
   "id": "e7647a32-4352-4279-8aed-4a7b12fb011b",
   "metadata": {},
   "outputs": [
    {
     "data": {
      "text/plain": [
       "False"
      ]
     },
     "execution_count": 19,
     "metadata": {},
     "output_type": "execute_result"
    }
   ],
   "source": [
    "b < a"
   ]
  },
  {
   "cell_type": "code",
   "execution_count": 21,
   "id": "45eab434-1dbb-439a-b63c-d52782536e1a",
   "metadata": {},
   "outputs": [
    {
     "data": {
      "text/plain": [
       "True"
      ]
     },
     "execution_count": 21,
     "metadata": {},
     "output_type": "execute_result"
    }
   ],
   "source": [
    "a < b"
   ]
  },
  {
   "cell_type": "code",
   "execution_count": 23,
   "id": "b8cbf450-43a9-4347-ace5-f1f674712301",
   "metadata": {},
   "outputs": [
    {
     "data": {
      "text/plain": [
       "False"
      ]
     },
     "execution_count": 23,
     "metadata": {},
     "output_type": "execute_result"
    }
   ],
   "source": [
    "a == b"
   ]
  },
  {
   "cell_type": "code",
   "execution_count": 25,
   "id": "3bbb1c46-202e-4965-9188-592c8ecea98d",
   "metadata": {},
   "outputs": [
    {
     "data": {
      "text/plain": [
       "True"
      ]
     },
     "execution_count": 25,
     "metadata": {},
     "output_type": "execute_result"
    }
   ],
   "source": [
    "a != b"
   ]
  },
  {
   "cell_type": "code",
   "execution_count": 29,
   "id": "ec980d4c-d928-4ccf-bfa0-720aa0b008e4",
   "metadata": {},
   "outputs": [],
   "source": [
    "## Logical Operators: and, or, not (these will work when certain conditions are compared and will result in a bool)\n",
    "## Bitwise Logical Operators: &, | (These operators work at the bit level of the operation performed)"
   ]
  },
  {
   "cell_type": "code",
   "execution_count": 31,
   "id": "9b153a65-6e0e-4fe8-9060-79ea246814a0",
   "metadata": {},
   "outputs": [],
   "source": [
    "a = True\n",
    "b = False"
   ]
  },
  {
   "cell_type": "code",
   "execution_count": 33,
   "id": "fabec338-0787-4703-8ad1-47c21573c99b",
   "metadata": {},
   "outputs": [
    {
     "data": {
      "text/plain": [
       "True"
      ]
     },
     "execution_count": 33,
     "metadata": {},
     "output_type": "execute_result"
    }
   ],
   "source": [
    "a & a"
   ]
  },
  {
   "cell_type": "code",
   "execution_count": 35,
   "id": "5addf489-349b-404b-b5da-cc3973f09c8c",
   "metadata": {},
   "outputs": [
    {
     "data": {
      "text/plain": [
       "False"
      ]
     },
     "execution_count": 35,
     "metadata": {},
     "output_type": "execute_result"
    }
   ],
   "source": [
    "a & b"
   ]
  },
  {
   "cell_type": "code",
   "execution_count": 37,
   "id": "833391f2-9452-4582-8786-c329b3c20550",
   "metadata": {},
   "outputs": [
    {
     "data": {
      "text/plain": [
       "False"
      ]
     },
     "execution_count": 37,
     "metadata": {},
     "output_type": "execute_result"
    }
   ],
   "source": [
    "b & a"
   ]
  },
  {
   "cell_type": "code",
   "execution_count": 39,
   "id": "2f9fbf76-2734-4cbb-b6e4-6a7ca06f6596",
   "metadata": {},
   "outputs": [
    {
     "data": {
      "text/plain": [
       "False"
      ]
     },
     "execution_count": 39,
     "metadata": {},
     "output_type": "execute_result"
    }
   ],
   "source": [
    "b & b"
   ]
  },
  {
   "cell_type": "code",
   "execution_count": 41,
   "id": "9a02b704-7e98-4e23-a594-6b842cbcb1fb",
   "metadata": {},
   "outputs": [
    {
     "data": {
      "text/plain": [
       "True"
      ]
     },
     "execution_count": 41,
     "metadata": {},
     "output_type": "execute_result"
    }
   ],
   "source": [
    "a | a"
   ]
  },
  {
   "cell_type": "code",
   "execution_count": 43,
   "id": "14344e00-7546-42f2-8a2c-e82bf3d9a9c4",
   "metadata": {},
   "outputs": [
    {
     "data": {
      "text/plain": [
       "True"
      ]
     },
     "execution_count": 43,
     "metadata": {},
     "output_type": "execute_result"
    }
   ],
   "source": [
    "a | b"
   ]
  },
  {
   "cell_type": "code",
   "execution_count": 45,
   "id": "6789ec5a-3719-4015-b71c-969e21ebe5bc",
   "metadata": {},
   "outputs": [
    {
     "data": {
      "text/plain": [
       "True"
      ]
     },
     "execution_count": 45,
     "metadata": {},
     "output_type": "execute_result"
    }
   ],
   "source": [
    "b | a"
   ]
  },
  {
   "cell_type": "code",
   "execution_count": 47,
   "id": "56f46a95-0714-4210-afa1-941389c60ae8",
   "metadata": {},
   "outputs": [
    {
     "data": {
      "text/plain": [
       "False"
      ]
     },
     "execution_count": 47,
     "metadata": {},
     "output_type": "execute_result"
    }
   ],
   "source": [
    "b | b"
   ]
  },
  {
   "cell_type": "code",
   "execution_count": 49,
   "id": "3fe3d33f-a97a-46f0-8a8e-147a8117e948",
   "metadata": {},
   "outputs": [
    {
     "data": {
      "text/plain": [
       "False"
      ]
     },
     "execution_count": 49,
     "metadata": {},
     "output_type": "execute_result"
    }
   ],
   "source": [
    "a and b"
   ]
  },
  {
   "cell_type": "code",
   "execution_count": null,
   "id": "37fb38bc-61b6-45a7-affe-c2f330855702",
   "metadata": {},
   "outputs": [],
   "source": []
  }
 ],
 "metadata": {
  "kernelspec": {
   "display_name": "Python 3 (ipykernel)",
   "language": "python",
   "name": "python3"
  },
  "language_info": {
   "codemirror_mode": {
    "name": "ipython",
    "version": 3
   },
   "file_extension": ".py",
   "mimetype": "text/x-python",
   "name": "python",
   "nbconvert_exporter": "python",
   "pygments_lexer": "ipython3",
   "version": "3.12.7"
  }
 },
 "nbformat": 4,
 "nbformat_minor": 5
}
