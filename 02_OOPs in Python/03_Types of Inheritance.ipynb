{
 "cells": [
  {
   "cell_type": "markdown",
   "id": "7271de49-7d7d-4a73-ab80-d06ce6cf4d89",
   "metadata": {},
   "source": [
    "### Types of Inheritance in Python:\n",
    "* There are 4 types of inheritance in Python:\n",
    "  1. Single Inheritance\n",
    "  2. Multiple Inheritance\n",
    "  3. Multi-level Inheritance\n",
    "  4. Hybrid Inheritance"
   ]
  },
  {
   "cell_type": "markdown",
   "id": "8d87d24d-1793-480c-ae8b-8e2f51675bc4",
   "metadata": {},
   "source": [
    "#### Multiple Inheritance"
   ]
  },
  {
   "cell_type": "markdown",
   "id": "5be3ac10-93ff-427f-9355-44c81c925d6d",
   "metadata": {},
   "source": [
    "In multiple inheritance, a child class inherits properties and behavior from more than one parent class.<br>\n",
    "Example:"
   ]
  },
  {
   "cell_type": "code",
   "execution_count": 20,
   "id": "f7783570-817a-4b5f-a209-ff8ae25b58ce",
   "metadata": {},
   "outputs": [],
   "source": [
    "class Parent1:\n",
    "    def assgn_str1(self, str1):\n",
    "        self.str1 = str1\n",
    "    def show_str1(self):\n",
    "        print(self.str1)"
   ]
  },
  {
   "cell_type": "code",
   "execution_count": 22,
   "id": "f11a17da-9a72-499b-b12f-1362244883bd",
   "metadata": {},
   "outputs": [],
   "source": [
    "class Parent2:\n",
    "    def assgn_str2(self, str2):\n",
    "        self.str2 = str2\n",
    "    def show_str2(self):\n",
    "        print(self.str2)"
   ]
  },
  {
   "cell_type": "code",
   "execution_count": 24,
   "id": "eb59aed1-acfb-4ee9-a6e2-385f36318bea",
   "metadata": {},
   "outputs": [],
   "source": [
    "class Child(Parent1, Parent2):\n",
    "    def assgn_str3(self, str3):\n",
    "        self.str3 = str3\n",
    "    def show_str3(self):\n",
    "        print(self.str3)"
   ]
  },
  {
   "cell_type": "code",
   "execution_count": 26,
   "id": "bc1bb96e-6dec-4a3f-950f-84da13c7b524",
   "metadata": {},
   "outputs": [],
   "source": [
    "child1 = Child()"
   ]
  },
  {
   "cell_type": "code",
   "execution_count": 28,
   "id": "7a65549e-da5f-4fdd-a42d-3bf93dba98d7",
   "metadata": {},
   "outputs": [],
   "source": [
    "child1.assgn_str1(\"Piyush\")"
   ]
  },
  {
   "cell_type": "code",
   "execution_count": 30,
   "id": "e1d0ab29-c3c2-4f30-aaec-b7d69577544b",
   "metadata": {},
   "outputs": [],
   "source": [
    "child1.assgn_str2(\"Ranjan\")"
   ]
  },
  {
   "cell_type": "code",
   "execution_count": 32,
   "id": "e6f2dec7-4db8-46be-a683-6db1cebe9ae5",
   "metadata": {},
   "outputs": [],
   "source": [
    "child1.assgn_str3(\"Piyush Ranjan\")"
   ]
  },
  {
   "cell_type": "code",
   "execution_count": 34,
   "id": "1d9f3691-3c90-4b6d-8dc9-5e5a9937f215",
   "metadata": {},
   "outputs": [
    {
     "name": "stdout",
     "output_type": "stream",
     "text": [
      "Piyush\n",
      "Ranjan\n",
      "Piyush Ranjan\n"
     ]
    }
   ],
   "source": [
    "child1.show_str1()\n",
    "child1.show_str2()\n",
    "child1.show_str3()"
   ]
  },
  {
   "cell_type": "markdown",
   "id": "86aaa162-75eb-4af4-8fa2-4e8e330d2c55",
   "metadata": {},
   "source": [
    "#### Multi-level Inheritance"
   ]
  },
  {
   "cell_type": "markdown",
   "id": "634fcbe0-bd15-48ca-b71a-a821229fd72d",
   "metadata": {},
   "source": [
    "In multi-level inheritance, we have a Parent, a Child and a Grand Child relationship.<br>\n",
    "Example:"
   ]
  },
  {
   "cell_type": "code",
   "execution_count": 43,
   "id": "3196846a-9312-497f-83db-67a16e02329d",
   "metadata": {},
   "outputs": [],
   "source": [
    "class Parent:\n",
    "    def assign_name(self, name):\n",
    "        self.name = name\n",
    "    def show_name(self):\n",
    "        print(self.name)"
   ]
  },
  {
   "cell_type": "code",
   "execution_count": 45,
   "id": "68d6b9ba-ffad-45df-9b8e-e522cbfe672b",
   "metadata": {},
   "outputs": [],
   "source": [
    "class Child(Parent):\n",
    "    def assign_age(self, age):\n",
    "        self.age = age\n",
    "    def show_age(self):\n",
    "        print(self.age)"
   ]
  },
  {
   "cell_type": "code",
   "execution_count": 47,
   "id": "dc05efba-f353-423f-925b-fde61e9b8fa3",
   "metadata": {},
   "outputs": [],
   "source": [
    "class Grand_child(Child):\n",
    "    def assign_gender(self, gender):\n",
    "        self.gender = gender\n",
    "    def show_gender(self):\n",
    "        print(self.gender)"
   ]
  },
  {
   "cell_type": "code",
   "execution_count": 49,
   "id": "aa92c506-6a5a-420b-b862-7c23785dc89a",
   "metadata": {},
   "outputs": [],
   "source": [
    "g1 = Grand_child()"
   ]
  },
  {
   "cell_type": "code",
   "execution_count": 51,
   "id": "ffa4697a-051a-48f7-9458-1333799c6d45",
   "metadata": {},
   "outputs": [],
   "source": [
    "g1.assign_name(\"Piyush\")\n",
    "g1.assign_age(22)\n",
    "g1.assign_gender(\"Male\")"
   ]
  },
  {
   "cell_type": "code",
   "execution_count": 53,
   "id": "7c668e64-5f80-412c-b509-1388cf076744",
   "metadata": {},
   "outputs": [
    {
     "name": "stdout",
     "output_type": "stream",
     "text": [
      "Piyush\n",
      "22\n",
      "Male\n"
     ]
    }
   ],
   "source": [
    "g1.show_name()\n",
    "g1.show_age()\n",
    "g1.show_gender()"
   ]
  }
 ],
 "metadata": {
  "kernelspec": {
   "display_name": "Python 3 (ipykernel)",
   "language": "python",
   "name": "python3"
  },
  "language_info": {
   "codemirror_mode": {
    "name": "ipython",
    "version": 3
   },
   "file_extension": ".py",
   "mimetype": "text/x-python",
   "name": "python",
   "nbconvert_exporter": "python",
   "pygments_lexer": "ipython3",
   "version": "3.12.7"
  }
 },
 "nbformat": 4,
 "nbformat_minor": 5
}
