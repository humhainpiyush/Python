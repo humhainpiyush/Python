{
 "cells": [
  {
   "cell_type": "markdown",
   "id": "8779f6b6-1f40-4643-b57e-6437fab4f623",
   "metadata": {},
   "source": [
    "### Inheritance in Python:"
   ]
  },
  {
   "cell_type": "markdown",
   "id": "90cdfd98-b325-4cd1-ac2c-991f08a948ac",
   "metadata": {},
   "source": [
    "* with _inheritance_ one class can derive the properties of another class"
   ]
  },
  {
   "cell_type": "markdown",
   "id": "3d993c8c-19af-442a-80ef-d1d5fe5a91b7",
   "metadata": {},
   "source": [
    "* Defining a base class:"
   ]
  },
  {
   "cell_type": "code",
   "execution_count": 34,
   "id": "c030fd9f-259b-41b5-bf54-0e8e7aa3b10d",
   "metadata": {},
   "outputs": [],
   "source": [
    "class Vehicle:  ## base class\n",
    "    def __init__(self, mileage, cost):\n",
    "        self.mileage = mileage\n",
    "        self.cost = cost\n",
    "    def show_details(self):\n",
    "        print(\"I am a Vehicle\")\n",
    "        print(\"Mileage of a Vehicle is \", self.mileage)\n",
    "        print(\"Cost of a Vehicle is \", self.cost)"
   ]
  },
  {
   "cell_type": "code",
   "execution_count": 9,
   "id": "c84d89ba-a6ef-4b5d-a2bd-cf66d0f96cff",
   "metadata": {},
   "outputs": [
    {
     "name": "stdout",
     "output_type": "stream",
     "text": [
      "I am a Vehicle\n",
      "Mileage of a Vehicle is  500\n",
      "Cost of a Vehicle is  500\n"
     ]
    }
   ],
   "source": [
    "v1 = Vehicle(500,500)\n",
    "v1.show_details()"
   ]
  },
  {
   "cell_type": "markdown",
   "id": "afd6969e-be12-4564-8f9f-c12f4b686439",
   "metadata": {},
   "source": [
    "* creating a child class"
   ]
  },
  {
   "cell_type": "code",
   "execution_count": 25,
   "id": "ddc40753-c386-4793-a947-957fb74b522c",
   "metadata": {},
   "outputs": [],
   "source": [
    "class Car(Vehicle):\n",
    "    def show_car_details(self):  ## One can also define methods and properties which are native to the child class\n",
    "        print(\"I am a car\")"
   ]
  },
  {
   "cell_type": "code",
   "execution_count": 19,
   "id": "55cfdc42-2741-40d0-9a78-b8689078cb53",
   "metadata": {},
   "outputs": [],
   "source": [
    "c1 = Car(200,2000)"
   ]
  },
  {
   "cell_type": "code",
   "execution_count": 21,
   "id": "fc17ad0b-1183-468b-af4b-78b049480cf2",
   "metadata": {},
   "outputs": [
    {
     "name": "stdout",
     "output_type": "stream",
     "text": [
      "I am a car\n",
      "I am a Vehicle\n",
      "Mileage of a Vehicle is  200\n",
      "Cost of a Vehicle is  2000\n"
     ]
    }
   ],
   "source": [
    "c1.show_car_details()\n",
    "c1.show_details()"
   ]
  },
  {
   "cell_type": "markdown",
   "id": "cd8f6ada-a2bb-49f8-b808-9e3224b768a5",
   "metadata": {},
   "source": [
    "* We can also override the constructor of the base class"
   ]
  },
  {
   "cell_type": "code",
   "execution_count": 40,
   "id": "208eb621-d705-44cb-9806-d1fe30ff3a35",
   "metadata": {},
   "outputs": [],
   "source": [
    "class Bike(Vehicle):\n",
    "    def __init__(self, mileage, cost, tyres, hp):\n",
    "        super().__init__(mileage, cost)\n",
    "        self.tyres = tyres\n",
    "        self.hp = hp\n",
    "    def show_bike_details(self):\n",
    "        print(\"I am a bike\")\n",
    "        print(\"Number of tyres are \", self.tyres)\n",
    "        print(\"The horse power is \", self.hp)"
   ]
  },
  {
   "cell_type": "code",
   "execution_count": 42,
   "id": "36d9938f-faaf-4137-a242-0badd8a4226a",
   "metadata": {},
   "outputs": [],
   "source": [
    "b1 = Bike(65, 250000, 2, 400)"
   ]
  },
  {
   "cell_type": "code",
   "execution_count": 44,
   "id": "721f8f4e-7255-402c-82ea-93aea254d0cb",
   "metadata": {},
   "outputs": [
    {
     "name": "stdout",
     "output_type": "stream",
     "text": [
      "I am a Vehicle\n",
      "Mileage of a Vehicle is  65\n",
      "Cost of a Vehicle is  250000\n"
     ]
    }
   ],
   "source": [
    "b1.show_details()"
   ]
  },
  {
   "cell_type": "code",
   "execution_count": 46,
   "id": "10dea8f5-8c65-4fca-917e-a5acfee46e88",
   "metadata": {},
   "outputs": [
    {
     "name": "stdout",
     "output_type": "stream",
     "text": [
      "I am a bike\n",
      "Number of tyres are  2\n",
      "The horse power is  400\n"
     ]
    }
   ],
   "source": [
    "b1.show_bike_details()"
   ]
  },
  {
   "cell_type": "code",
   "execution_count": null,
   "id": "71450bd3-ff60-42ac-8c20-f6f8755cdf3a",
   "metadata": {},
   "outputs": [],
   "source": []
  }
 ],
 "metadata": {
  "kernelspec": {
   "display_name": "Python 3 (ipykernel)",
   "language": "python",
   "name": "python3"
  },
  "language_info": {
   "codemirror_mode": {
    "name": "ipython",
    "version": 3
   },
   "file_extension": ".py",
   "mimetype": "text/x-python",
   "name": "python",
   "nbconvert_exporter": "python",
   "pygments_lexer": "ipython3",
   "version": "3.12.7"
  }
 },
 "nbformat": 4,
 "nbformat_minor": 5
}
