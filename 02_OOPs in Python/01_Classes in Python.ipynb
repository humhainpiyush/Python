{
 "cells": [
  {
   "cell_type": "markdown",
   "id": "c0659089-d105-454c-8341-442950636bd2",
   "metadata": {},
   "source": [
    "## Defining a _Class_ in Python:"
   ]
  },
  {
   "cell_type": "code",
   "execution_count": 2,
   "id": "d2b164f2-0a3c-4e84-87f8-5a12860eb935",
   "metadata": {},
   "outputs": [],
   "source": [
    "class Phone:\n",
    "    def make_call(self):\n",
    "        print(\"Let's make a phone call\")\n",
    "    def play_games(self):\n",
    "        print(\"Let's play a game\")"
   ]
  },
  {
   "cell_type": "markdown",
   "id": "d8e0a597-c282-4ad0-b88a-f3aee5a6ecec",
   "metadata": {},
   "source": [
    "#### instanciating a class / making an object of a class:"
   ]
  },
  {
   "cell_type": "code",
   "execution_count": 5,
   "id": "a3dc38c0-50d9-4c1b-85b7-6a673ab1eb00",
   "metadata": {},
   "outputs": [],
   "source": [
    "p1 = Phone()"
   ]
  },
  {
   "cell_type": "markdown",
   "id": "4b8232be-2659-48b6-8fb1-27850f7cc78a",
   "metadata": {},
   "source": [
    "#### accessing the methods of the class via object:"
   ]
  },
  {
   "cell_type": "code",
   "execution_count": 8,
   "id": "84b70eaa-960b-4435-9e3b-685df0ec3b0e",
   "metadata": {},
   "outputs": [
    {
     "name": "stdout",
     "output_type": "stream",
     "text": [
      "Let's make a phone call\n"
     ]
    }
   ],
   "source": [
    "p1.make_call()"
   ]
  },
  {
   "cell_type": "code",
   "execution_count": 10,
   "id": "2faa9ee6-525c-417f-b909-cd905183e0aa",
   "metadata": {},
   "outputs": [
    {
     "name": "stdout",
     "output_type": "stream",
     "text": [
      "Let's play a game\n"
     ]
    }
   ],
   "source": [
    "p1.play_games()"
   ]
  },
  {
   "cell_type": "markdown",
   "id": "4bbd0213-2f47-419a-b052-b8356a9494e8",
   "metadata": {},
   "source": [
    "#### adding parameters to a class method"
   ]
  },
  {
   "cell_type": "code",
   "execution_count": 13,
   "id": "e7800ead-796c-48ac-b7bb-4527c29486a0",
   "metadata": {},
   "outputs": [],
   "source": [
    "class Phone:\n",
    "    def set_color(self, color):\n",
    "        self.color = color\n",
    "    def set_cost(self, cost):\n",
    "        self.cost = cost\n",
    "    def show_color(self):\n",
    "        return self.color\n",
    "    def show_cost(self):\n",
    "        return self.cost\n",
    "    def play_game(self):\n",
    "        print(\"Playing a game\")\n",
    "    def make_call(self):\n",
    "        print(\"Making a call\")"
   ]
  },
  {
   "cell_type": "code",
   "execution_count": 15,
   "id": "a1160a73-1a9e-41a7-995a-a53a430999d6",
   "metadata": {},
   "outputs": [],
   "source": [
    "p2 = Phone()"
   ]
  },
  {
   "cell_type": "code",
   "execution_count": 17,
   "id": "36fd4847-5645-40d0-98a2-1e3ecdaa6274",
   "metadata": {},
   "outputs": [],
   "source": [
    "p2.set_color('Blue')"
   ]
  },
  {
   "cell_type": "code",
   "execution_count": 19,
   "id": "9836e532-336b-4161-9192-42dc4ad69dc5",
   "metadata": {},
   "outputs": [],
   "source": [
    "p2.set_cost(500)"
   ]
  },
  {
   "cell_type": "code",
   "execution_count": 21,
   "id": "80945929-b11f-490f-9ee7-fac9f8ea0524",
   "metadata": {},
   "outputs": [
    {
     "data": {
      "text/plain": [
       "'Blue'"
      ]
     },
     "execution_count": 21,
     "metadata": {},
     "output_type": "execute_result"
    }
   ],
   "source": [
    "p2.show_color()"
   ]
  },
  {
   "cell_type": "code",
   "execution_count": 23,
   "id": "66450f80-13b6-4a9e-99d0-05b210d30aec",
   "metadata": {},
   "outputs": [
    {
     "data": {
      "text/plain": [
       "500"
      ]
     },
     "execution_count": 23,
     "metadata": {},
     "output_type": "execute_result"
    }
   ],
   "source": [
    "p2.show_cost()"
   ]
  },
  {
   "cell_type": "code",
   "execution_count": 25,
   "id": "3c6414c8-d9ba-4579-810a-44a937f80a10",
   "metadata": {},
   "outputs": [
    {
     "name": "stdout",
     "output_type": "stream",
     "text": [
      "Playing a game\n"
     ]
    }
   ],
   "source": [
    "p2.play_game()"
   ]
  },
  {
   "cell_type": "code",
   "execution_count": 27,
   "id": "e8fafa5f-7ff8-49c4-af4f-64268b0dfb36",
   "metadata": {},
   "outputs": [
    {
     "name": "stdout",
     "output_type": "stream",
     "text": [
      "Making a call\n"
     ]
    }
   ],
   "source": [
    "p2.make_call()"
   ]
  },
  {
   "cell_type": "markdown",
   "id": "77e82a88-7dee-49ea-bd67-4520c4fa186d",
   "metadata": {},
   "source": [
    "### Contructor in a class:"
   ]
  },
  {
   "cell_type": "markdown",
   "id": "6cc767ba-5cd3-43e0-b4a1-9991cf9841f8",
   "metadata": {},
   "source": [
    "* contructor in a class is basically a method named \"__init__\" ."
   ]
  },
  {
   "cell_type": "code",
   "execution_count": 31,
   "id": "8375696f-1d05-4fdd-8260-446fdb2ccc11",
   "metadata": {},
   "outputs": [],
   "source": [
    "class Employee:\n",
    "    def __init__(self, name, age, salary, gender):\n",
    "        self.name = name\n",
    "        self.age = age\n",
    "        self.salary = salary\n",
    "        self.gender = gender\n",
    "    def show_details(self):\n",
    "        print(\"The name of the Employee is: \", self.name)\n",
    "        print(\"The age of the Employee is: \", self.age)\n",
    "        print(\"The salary of the Employee is: \", self.salary)\n",
    "        print(\"The gender of the Employee is: \", self.gender)"
   ]
  },
  {
   "cell_type": "code",
   "execution_count": 33,
   "id": "648d7bc1-adfc-47be-a0de-ea101e5a6a5e",
   "metadata": {},
   "outputs": [],
   "source": [
    "e1 = Employee(\"Prakriti\", 25, 365780, 'female')"
   ]
  },
  {
   "cell_type": "code",
   "execution_count": 35,
   "id": "22d4f2c3-db41-42ef-a1d4-1b7bb4632268",
   "metadata": {},
   "outputs": [
    {
     "name": "stdout",
     "output_type": "stream",
     "text": [
      "The name of the Employee is:  Prakriti\n",
      "The age of the Employee is:  25\n",
      "The salary of the Employee is:  365780\n",
      "The gender of the Employee is:  female\n"
     ]
    }
   ],
   "source": [
    "e1.show_details()"
   ]
  },
  {
   "cell_type": "code",
   "execution_count": null,
   "id": "73527325-d7b3-4c34-9022-9af760298fd8",
   "metadata": {},
   "outputs": [],
   "source": []
  }
 ],
 "metadata": {
  "kernelspec": {
   "display_name": "Python 3 (ipykernel)",
   "language": "python",
   "name": "python3"
  },
  "language_info": {
   "codemirror_mode": {
    "name": "ipython",
    "version": 3
   },
   "file_extension": ".py",
   "mimetype": "text/x-python",
   "name": "python",
   "nbconvert_exporter": "python",
   "pygments_lexer": "ipython3",
   "version": "3.12.7"
  }
 },
 "nbformat": 4,
 "nbformat_minor": 5
}
