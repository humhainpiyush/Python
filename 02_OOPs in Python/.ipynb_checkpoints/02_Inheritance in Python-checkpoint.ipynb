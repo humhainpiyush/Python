{
 "cells": [
  {
   "cell_type": "markdown",
   "id": "8779f6b6-1f40-4643-b57e-6437fab4f623",
   "metadata": {},
   "source": [
    "### Inheritance in Python:"
   ]
  },
  {
   "cell_type": "markdown",
   "id": "90cdfd98-b325-4cd1-ac2c-991f08a948ac",
   "metadata": {},
   "source": [
    "* with _inheritance_ one class can derive the properties of another class"
   ]
  },
  {
   "cell_type": "markdown",
   "id": "3d993c8c-19af-442a-80ef-d1d5fe5a91b7",
   "metadata": {},
   "source": [
    "* Defining a base class:"
   ]
  },
  {
   "cell_type": "code",
   "execution_count": 34,
   "id": "c030fd9f-259b-41b5-bf54-0e8e7aa3b10d",
   "metadata": {},
   "outputs": [],
   "source": [
    "class Vehicle:  ## base class\n",
    "    def __init__(self, mileage, cost):\n",
    "        self.mileage = mileage\n",
    "        self.cost = cost\n",
    "    def show_details(self):\n",
    "        print(\"I am a Vehicle\")\n",
    "        print(\"Mileage of a Vehicle is \", self.mileage)\n",
    "        print(\"Cost of a Vehicle is \", self.cost)"
   ]
  },
  {
   "cell_type": "code",
   "execution_count": 9,
   "id": "c84d89ba-a6ef-4b5d-a2bd-cf66d0f96cff",
   "metadata": {},
   "outputs": [
    {
     "name": "stdout",
     "output_type": "stream",
     "text": [
      "I am a Vehicle\n",
      "Mileage of a Vehicle is  500\n",
      "Cost of a Vehicle is  500\n"
     ]
    }
   ],
   "source": [
    "v1 = Vehicle(500,500)\n",
    "v1.show_details()"
   ]
  },
  {
   "cell_type": "markdown",
   "id": "afd6969e-be12-4564-8f9f-c12f4b686439",
   "metadata": {},
   "source": [
    "* creating a child class"
   ]
  },
  {
   "cell_type": "code",
   "execution_count": 25,
   "id": "ddc40753-c386-4793-a947-957fb74b522c",
   "metadata": {},
   "outputs": [],
   "source": [
    "class Car(Vehicle):\n",
    "    def show_car_details(self):  ## One can also define methods and properties which are native to the child class\n",
    "        print(\"I am a car\")"
   ]
  },
  {
   "cell_type": "code",
   "execution_count": 19,
   "id": "55cfdc42-2741-40d0-9a78-b8689078cb53",
   "metadata": {},
   "outputs": [],
   "source": [
    "c1 = Car(200,2000)"
   ]
  },
  {
   "cell_type": "code",
   "execution_count": 21,
   "id": "fc17ad0b-1183-468b-af4b-78b049480cf2",
   "metadata": {},
   "outputs": [
    {
     "name": "stdout",
     "output_type": "stream",
     "text": [
      "I am a car\n",
      "I am a Vehicle\n",
      "Mileage of a Vehicle is  200\n",
      "Cost of a Vehicle is  2000\n"
     ]
    }
   ],
   "source": [
    "c1.show_car_details()\n",
    "c1.show_details()"
   ]
  },
  {
   "cell_type": "markdown",
   "id": "cd8f6ada-a2bb-49f8-b808-9e3224b768a5",
   "metadata": {},
   "source": [
    "* We can also override the constructor of the base class"
   ]
  },
  {
   "cell_type": "code",
   "execution_count": 36,
   "id": "208eb621-d705-44cb-9806-d1fe30ff3a35",
   "metadata": {},
   "outputs": [],
   "source": [
    "class Bike(Vehicle):\n",
    "    def __init__(self, mileage, cost, tyres, hp):\n",
    "        super().__init__(mileage, cost)\n",
    "        self.tyres = tyres\n",
    "        self.hp = hp\n",
    "    def show_bike_details(self):\n",
    "        print(\"I am a bike\")\n",
    "        print(\"Number of tyres are \", self.tyres)\n",
    "        print(\"The horse power is \", self.hp)"
   ]
  },
  {
   "cell_type": "code",
   "execution_count": 38,
   "id": "36d9938f-faaf-4137-a242-0badd8a4226a",
   "metadata": {},
   "outputs": [
    {
     "ename": "TypeError",
     "evalue": "descriptor '__init__' requires a 'super' object but received a 'int'",
     "output_type": "error",
     "traceback": [
      "\u001b[1;31m---------------------------------------------------------------------------\u001b[0m",
      "\u001b[1;31mTypeError\u001b[0m                                 Traceback (most recent call last)",
      "Cell \u001b[1;32mIn[38], line 1\u001b[0m\n\u001b[1;32m----> 1\u001b[0m b1 \u001b[38;5;241m=\u001b[39m Bike(\u001b[38;5;241m65\u001b[39m, \u001b[38;5;241m250000\u001b[39m, \u001b[38;5;241m2\u001b[39m, \u001b[38;5;241m400\u001b[39m)\n",
      "Cell \u001b[1;32mIn[36], line 3\u001b[0m, in \u001b[0;36mBike.__init__\u001b[1;34m(self, mileage, cost, tyres, hp)\u001b[0m\n\u001b[0;32m      2\u001b[0m \u001b[38;5;28;01mdef\u001b[39;00m \u001b[38;5;21m__init__\u001b[39m(\u001b[38;5;28mself\u001b[39m, mileage, cost, tyres, hp):\n\u001b[1;32m----> 3\u001b[0m     \u001b[38;5;28msuper\u001b[39m\u001b[38;5;241m.\u001b[39m\u001b[38;5;21m__init__\u001b[39m(mileage, cost)\n\u001b[0;32m      4\u001b[0m     \u001b[38;5;28mself\u001b[39m\u001b[38;5;241m.\u001b[39mtyres \u001b[38;5;241m=\u001b[39m tyres\n\u001b[0;32m      5\u001b[0m     \u001b[38;5;28mself\u001b[39m\u001b[38;5;241m.\u001b[39mhp \u001b[38;5;241m=\u001b[39m hp\n",
      "\u001b[1;31mTypeError\u001b[0m: descriptor '__init__' requires a 'super' object but received a 'int'"
     ]
    }
   ],
   "source": [
    "b1 = Bike(65, 250000, 2, 400)"
   ]
  },
  {
   "cell_type": "code",
   "execution_count": null,
   "id": "721f8f4e-7255-402c-82ea-93aea254d0cb",
   "metadata": {},
   "outputs": [],
   "source": []
  }
 ],
 "metadata": {
  "kernelspec": {
   "display_name": "Python 3 (ipykernel)",
   "language": "python",
   "name": "python3"
  },
  "language_info": {
   "codemirror_mode": {
    "name": "ipython",
    "version": 3
   },
   "file_extension": ".py",
   "mimetype": "text/x-python",
   "name": "python",
   "nbconvert_exporter": "python",
   "pygments_lexer": "ipython3",
   "version": "3.12.7"
  }
 },
 "nbformat": 4,
 "nbformat_minor": 5
}
